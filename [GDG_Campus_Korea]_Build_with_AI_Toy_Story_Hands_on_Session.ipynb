{
  "cells": [
    {
      "cell_type": "markdown",
      "metadata": {
        "id": "Tce3stUlHN0L"
      },
      "source": [
        "##### Copyright 2024 Google LLC."
      ]
    },
    {
      "cell_type": "code",
      "execution_count": null,
      "metadata": {
        "cellView": "form",
        "id": "tuOe1ymfHZPu"
      },
      "outputs": [],
      "source": [
        "#@title Licensed under the Apache License, Version 2.0 (the \"License\");\n",
        "# you may not use this file except in compliance with the License.\n",
        "# You may obtain a copy of the License at\n",
        "#\n",
        "# https://www.apache.org/licenses/LICENSE-2.0\n",
        "#\n",
        "# Unless required by applicable law or agreed to in writing, software\n",
        "# distributed under the License is distributed on an \"AS IS\" BASIS,\n",
        "# WITHOUT WARRANTIES OR CONDITIONS OF ANY KIND, either express or implied.\n",
        "# See the License for the specific language governing permissions and\n",
        "# limitations under the License."
      ]
    },
    {
      "cell_type": "markdown",
      "metadata": {
        "id": "yeadDkMiISin"
      },
      "source": [
        "# Get started with the Gemini API: Python"
      ]
    },
    {
      "cell_type": "markdown",
      "metadata": {
        "id": "lEXQ3OwKIa-O"
      },
      "source": [
        "<table class=\"tfo-notebook-buttons\" align=\"left\">\n",
        "  <td>\n",
        "    <a target=\"_blank\" href=\"https://ai.google.dev/gemini-api/docs/get-started/python\"><img src=\"https://ai.google.dev/static/site-assets/images/docs/notebook-site-button.png\" height=\"32\" width=\"32\" />View on Google AI</a>\n",
        "  </td>\n",
        "  <td>\n",
        "    <a target=\"_blank\" href=\"https://colab.research.google.com/github/google/generative-ai-docs/blob/main/site/en/gemini-api/docs/get-started/python.ipynb\"><img src=\"https://www.tensorflow.org/images/colab_logo_32px.png\" />Run in Google Colab</a>\n",
        "  </td>\n",
        "  <td>\n",
        "    <a target=\"_blank\" href=\"https://github.com/google/generative-ai-docs/blob/main/site/en/gemini-api/docs/get-started/python.ipynb\"><img src=\"https://www.tensorflow.org/images/GitHub-Mark-32px.png\" />View source on GitHub</a>\n",
        "  </td>\n",
        "</table>"
      ]
    },
    {
      "cell_type": "markdown",
      "metadata": {
        "id": "uOxMUKTxR-_j"
      },
      "source": [
        "This quickstart demonstrates how to use the Python SDK for the Gemini API, which gives you access to Google's Gemini large language models. In this quickstart, you will learn how to:\n",
        "\n",
        "1. Set up your development environment and API access to use Gemini.\n",
        "2. Generate text responses from text inputs.\n",
        "3. Generate text responses from multimodal inputs (text and images).\n",
        "4. Use Gemini for multi-turn conversations (chat).\n",
        "5. Use embeddings for large language models."
      ]
    },
    {
      "cell_type": "markdown",
      "metadata": {
        "id": "H9__zr1nSBpE"
      },
      "source": [
        "## Prerequisites\n",
        "\n",
        "You can run this quickstart in [Google Colab](https://colab.research.google.com/github/google/generative-ai-docs/blob/main/site/en/tutorials/python_quickstart.ipynb), which runs this notebook directly in the browser and does not require additional environment configuration.\n",
        "\n",
        "Alternatively, to complete this quickstart locally, ensure that your development environment meets the following requirements:\n",
        "\n",
        "-  Python 3.9+\n",
        "-  An installation of `jupyter` to run the notebook."
      ]
    },
    {
      "cell_type": "markdown",
      "metadata": {
        "id": "FFPBKLapSCkM"
      },
      "source": [
        "## Setup"
      ]
    },
    {
      "cell_type": "markdown",
      "metadata": {
        "id": "wFNV1e3ASJha"
      },
      "source": [
        "### Install the Python SDK\n",
        "\n",
        "The Python SDK for the Gemini API, is contained in the [`google-generativeai`](https://pypi.org/project/google-generativeai/) package. Install the dependency using pip:"
      ]
    },
    {
      "cell_type": "code",
      "execution_count": null,
      "metadata": {
        "id": "9OEoeosRTv-5"
      },
      "outputs": [],
      "source": [
        "!pip install -q -U google-generativeai"
      ]
    },
    {
      "cell_type": "markdown",
      "metadata": {
        "id": "KCFF5VSTbcAR"
      },
      "source": [
        "### Import packages"
      ]
    },
    {
      "cell_type": "markdown",
      "metadata": {
        "id": "vRC2HngneEeQ"
      },
      "source": [
        "Import the necessary packages."
      ]
    },
    {
      "cell_type": "code",
      "execution_count": null,
      "metadata": {
        "id": "TS9l5igubpHO"
      },
      "outputs": [],
      "source": [
        "import pathlib\n",
        "import textwrap\n",
        "\n",
        "import google.generativeai as genai\n",
        "\n",
        "from IPython.display import display\n",
        "from IPython.display import Markdown\n",
        "\n",
        "\n",
        "def to_markdown(text):\n",
        "  text = text.replace('•', '  *')\n",
        "  return Markdown(textwrap.indent(text, '> ', predicate=lambda _: True))"
      ]
    },
    {
      "cell_type": "code",
      "execution_count": null,
      "metadata": {
        "id": "d10c38a5c91f"
      },
      "outputs": [],
      "source": [
        "# Used to securely store your API key\n",
        "from google.colab import userdata"
      ]
    },
    {
      "cell_type": "markdown",
      "metadata": {
        "id": "gHYFrFPjSGNq"
      },
      "source": [
        "### Setup your API key\n",
        "\n",
        "Before you can use the Gemini API, you must first obtain an API key. If you don't already have one, create a key with one click in Google AI Studio.\n",
        "\n",
        "<a class=\"button button-primary\" href=\"https://makersuite.google.com/app/apikey\" target=\"_blank\" rel=\"noopener noreferrer\">Get an API key</a>"
      ]
    },
    {
      "cell_type": "markdown",
      "metadata": {
        "id": "tHhsUxDTdw0W"
      },
      "source": [
        "In Colab, add the key to the secrets manager under the \"🔑\" in the left panel. Give it the name `GOOGLE_API_KEY`."
      ]
    },
    {
      "cell_type": "markdown",
      "metadata": {
        "id": "VmSlTHXxb5pV"
      },
      "source": [
        "Once you have the API key, pass it to the SDK. You can do this in two ways:\n",
        "\n",
        "* Put the key in the `GOOGLE_API_KEY` environment variable (the SDK will automatically pick it up from there).\n",
        "* Pass the key to `genai.configure(api_key=...)`"
      ]
    },
    {
      "cell_type": "code",
      "execution_count": null,
      "metadata": {
        "id": "ab9ASynfcIZn"
      },
      "outputs": [],
      "source": [
        "# Or use `os.getenv('GOOGLE_API_KEY')` to fetch an environment variable.\n",
        "GOOGLE_API_KEY=userdata.get('GOOGLE_API_KEY')\n",
        "\n",
        "genai.configure(api_key=GOOGLE_API_KEY)"
      ]
    },
    {
      "cell_type": "markdown",
      "metadata": {
        "id": "8ssbTMNVSMd-"
      },
      "source": [
        "## List models\n",
        "\n",
        "Now you're ready to call the Gemini API. Use `list_models` to see the available Gemini models:\n",
        "\n",
        "* `gemini-pro`: optimized for text-only prompts.\n",
        "* `gemini-pro-vision`: optimized for text-and-images prompts."
      ]
    },
    {
      "cell_type": "code",
      "execution_count": null,
      "metadata": {
        "colab": {
          "base_uri": "https://localhost:8080/",
          "height": 142
        },
        "id": "QvvWFy08e5c5",
        "outputId": "6ae5d948-9d59-4770-988a-51cfd5fb3b1e"
      },
      "outputs": [
        {
          "name": "stdout",
          "output_type": "stream",
          "text": [
            "models/gemini-1.0-pro\n",
            "models/gemini-1.0-pro-001\n",
            "models/gemini-1.0-pro-latest\n",
            "models/gemini-1.0-pro-vision-latest\n",
            "models/gemini-1.5-pro-latest\n",
            "models/gemini-pro\n",
            "models/gemini-pro-vision\n"
          ]
        }
      ],
      "source": [
        "for m in genai.list_models():\n",
        "  if 'generateContent' in m.supported_generation_methods:\n",
        "    print(m.name)"
      ]
    },
    {
      "cell_type": "markdown",
      "metadata": {
        "id": "FTl5NjtrhA0J"
      },
      "source": [
        "Note: For detailed information about the available models, including their capabilities and rate limits, see [Gemini models](https://ai.google.dev/models/gemini). There are options for requesting [rate limit increases](https://ai.google.dev/docs/increase_quota). The rate limit for Gemini-Pro models is 60 requests per minute (RPM).\n",
        "\n",
        "The `genai` package also supports the PaLM  family of models, but only the Gemini models support the generic, multimodal capabilities of the `generateContent` method."
      ]
    },
    {
      "cell_type": "markdown",
      "source": [
        "참고: 사용 가능한 모델에 대한 자세한 정보(기능 및 요율 제한 포함)는 [Gemini 모델](https://ai.google.dev/models/gemini)을 참조하세요. 요율 제한 증가를 요청할 수 있는 옵션도 있습니다. Gemini-Pro 모델의 요율 제한은 분당 60회 요청(RPM)입니다.\n",
        "\n",
        "`genai` 패키지는 PaLM 모델 패밀리도 지원하지만, `generateContent` 메서드의 일반적인 멀티모달 기능은 Gemini 모델만 지원합니다."
      ],
      "metadata": {
        "id": "U7z23bsevOVG"
      }
    },
    {
      "cell_type": "markdown",
      "metadata": {
        "id": "LZfoK3I3hu6V"
      },
      "source": [
        "## Generate text from text inputs\n",
        "\n",
        "For text-only prompts, use the `gemini-pro` model:"
      ]
    },
    {
      "cell_type": "code",
      "execution_count": null,
      "metadata": {
        "id": "2bcfnGEviwTI"
      },
      "outputs": [],
      "source": [
        "model = genai.GenerativeModel('gemini-pro')"
      ]
    },
    {
      "cell_type": "markdown",
      "metadata": {
        "id": "WR_2A_sxk8sK"
      },
      "source": [
        "The `generate_content` method can handle a wide variety of use cases, including multi-turn chat and multimodal input, depending on what the underlying model supports. The available models only support text and images as input, and text as output.\n",
        "\n",
        "In the simplest case, you can pass a prompt string to the <a href=\"https://ai.google.dev/api/python/google/generativeai/GenerativeModel#generate_content\"><code>GenerativeModel.generate_content</code></a> method:"
      ]
    },
    {
      "cell_type": "markdown",
      "source": [
        "`generate_content` 메서드는 기본 모델이 지원하는 대로 다양한 사용 사례를 처리할 수 있습니다. 사용 가능한 모델은 입력으로 텍스트와 이미지만 지원하며, 출력으로는 텍스트만 지원합니다.\n",
        "\n",
        "가장 간단한 경우에는 <a href=\"https://ai.google.dev/api/python/google/generativeai/GenerativeModel#generate_content\"><code>GenerativeModel.generate_content</code></a> 메서드에 프롬프트 문자열을 전달할 수 있습니다."
      ],
      "metadata": {
        "id": "nkE4zVfJvKuX"
      }
    },
    {
      "cell_type": "code",
      "execution_count": null,
      "metadata": {
        "colab": {
          "base_uri": "https://localhost:8080/",
          "height": 53
        },
        "id": "he-OfzBbhACQ",
        "outputId": "2141c717-96ad-4b16-f63b-c77739467172"
      },
      "outputs": [
        {
          "name": "stdout",
          "output_type": "stream",
          "text": [
            "CPU times: user 135 ms, sys: 12.6 ms, total: 148 ms\n",
            "Wall time: 10.2 s\n"
          ]
        }
      ],
      "source": [
        "%%time\n",
        "response = model.generate_content(\"please explain about making hamburger\")"
      ]
    },
    {
      "cell_type": "markdown",
      "metadata": {
        "id": "FbrR-n_qlpFd"
      },
      "source": [
        "In simple cases, the `response.text` accessor is all you need. To display formatted Markdown text, use the `to_markdown` function:"
      ]
    },
    {
      "cell_type": "markdown",
      "source": [
        "간단한 경우에는 `response.text` 접근자만으로 충분합니다. 서식이 있는 Markdown 텍스트를 표시하려면 `to_markdown` 함수를 사용하세요."
      ],
      "metadata": {
        "id": "TECsIzYDvR1B"
      }
    },
    {
      "cell_type": "code",
      "execution_count": null,
      "metadata": {
        "colab": {
          "base_uri": "https://localhost:8080/",
          "height": 852
        },
        "id": "G-zBkueElVEO",
        "outputId": "4b150f8e-c836-44bf-e7fb-cee111da9574"
      },
      "outputs": [
        {
          "data": {
            "text/markdown": "> **Ingredients:**\n> \n> **For the patties:**\n> - 1 pound ground beef (80/20 ratio)\n> - 1/4 cup chopped onion\n> - 1/4 cup bread crumbs\n> - 1 egg\n> - 1 tablespoon Worcestershire sauce\n> - 1/2 teaspoon salt\n> - 1/4 teaspoon black pepper\n> \n> **For the assembly:**\n> - Hamburger buns\n> - Lettuce\n> - Tomato\n> - Onion\n> - Pickles\n> - Cheese (optional)\n> - Condiments (such as ketchup, mustard, mayonnaise)\n> \n> **Instructions:**\n> \n> **1. Make the patties:**\n> - In a large bowl, combine the ground beef, onion, bread crumbs, egg, Worcestershire sauce, salt, and pepper. Mix well until the ingredients are evenly distributed.\n> - Divide the mixture into equal portions (4-6 patties). Shape each portion into a patty about 1/2 inch thick and 3 inches wide.\n> - Make a slight indentation in the center of each patty to prevent them from puffing up while cooking.\n> \n> **2. Cook the patties:**\n> - Heat a grill or grill pan over medium heat.\n> - Grill the patties for 4-5 minutes per side for medium-rare, 5-6 minutes per side for medium, or 6-7 minutes per side for medium-well.\n> - Use a meat thermometer to ensure the internal temperature reaches your desired doneness: 145°F (63°C) for medium-rare, 160°F (71°C) for medium, or 165°F (74°C) for medium-well.\n> - Let the patties rest for 5-10 minutes before assembling the burgers to allow the juices to redistribute.\n> \n> **3. Assemble the burgers:**\n> - Spread your preferred condiments on the bottom bun.\n> - Add the lettuce, tomato, onion, and pickles.\n> - Place the patty on top, followed by the cheese (if using).\n> - Add the top bun and serve immediately.\n> \n> **Tips:**\n> \n> * For a more flavorful burger, use a higher-quality ground beef (90/10 or 85/15).\n> * Don't overmix the patty mixture, as this can make the burgers tough.\n> * Be careful not to overcook the patties, as they will become dry and tough.\n> * Toast the buns for a slightly crispy texture.\n> * Experiment with different toppings and condiments to create your own unique burger variations.",
            "text/plain": [
              "<IPython.core.display.Markdown object>"
            ]
          },
          "execution_count": 12,
          "metadata": {},
          "output_type": "execute_result"
        }
      ],
      "source": [
        "to_markdown(response.text)"
      ]
    },
    {
      "cell_type": "markdown",
      "metadata": {
        "id": "UZPpoKMQoru8"
      },
      "source": [
        "If the API failed to return a result, use `GenerateContentResponse.prompt_feedback` to see if it was blocked due to safety concerns regarding the prompt.\n",
        "\n",
        "API가 결과를 반환하지 못했다면, `GenerateContentResponse.prompt_feedback`를 사용하여 프롬프트에 대한 안전 문제로 차단되었는지 확인하세요."
      ]
    },
    {
      "cell_type": "code",
      "execution_count": null,
      "metadata": {
        "id": "eIQdU8AGoraT",
        "outputId": "40e6cec5-efb2-456a-a86a-8fae3d558cf5"
      },
      "outputs": [
        {
          "data": {
            "text/plain": [
              "safety_ratings {\n",
              "  category: HARM_CATEGORY_SEXUALLY_EXPLICIT\n",
              "  probability: NEGLIGIBLE\n",
              "}\n",
              "safety_ratings {\n",
              "  category: HARM_CATEGORY_HATE_SPEECH\n",
              "  probability: NEGLIGIBLE\n",
              "}\n",
              "safety_ratings {\n",
              "  category: HARM_CATEGORY_HARASSMENT\n",
              "  probability: NEGLIGIBLE\n",
              "}\n",
              "safety_ratings {\n",
              "  category: HARM_CATEGORY_DANGEROUS_CONTENT\n",
              "  probability: NEGLIGIBLE\n",
              "}"
            ]
          },
          "execution_count": 8,
          "metadata": {},
          "output_type": "execute_result"
        }
      ],
      "source": [
        "response.prompt_feedback"
      ]
    },
    {
      "cell_type": "markdown",
      "metadata": {
        "id": "BEJupEDUo6Xj"
      },
      "source": [
        "Gemini can generate multiple possible responses for a single prompt. These possible responses are called `candidates`, and you can review them to select the most suitable one as the response.\n",
        "\n",
        "View the response candidates with <a href=\"https://ai.google.dev/api/python/google/ai/generativelanguage/GenerateContentResponse#candidates\"><code>GenerateContentResponse.candidates</code></a>:"
      ]
    },
    {
      "cell_type": "markdown",
      "source": [
        "단일 프롬프트에 대해 Gemini는 여러 가능한 응답을 생성할 수 있습니다. 이러한 가능한 응답을 `candidates`라고 하며, 이 중 가장 적합한 것을 응답으로 선택할 수 있습니다.\n",
        "\n",
        "<a href=\"https://ai.google.dev/api/python/google/ai/generativelanguage/GenerateContentResponse#candidates\"><code>GenerateContentResponse.candidates</code></a>를 사용하여 응답 후보를 확인할 수 있습니다."
      ],
      "metadata": {
        "id": "FATi877Pv0sd"
      }
    },
    {
      "cell_type": "code",
      "execution_count": null,
      "metadata": {
        "colab": {
          "base_uri": "https://localhost:8080/"
        },
        "id": "QoGYz-I7o5wF",
        "outputId": "98e0b851-c82c-498d-8f2e-d70875b88531"
      },
      "outputs": [
        {
          "data": {
            "text/plain": [
              "[content {\n",
              "  parts {\n",
              "    text: \"**Ingredients:**\\n\\n**For the patties:**\\n- 1 pound ground beef (80/20 ratio)\\n- 1/4 cup chopped onion\\n- 1/4 cup bread crumbs\\n- 1 egg\\n- 1 tablespoon Worcestershire sauce\\n- 1/2 teaspoon salt\\n- 1/4 teaspoon black pepper\\n\\n**For the assembly:**\\n- Hamburger buns\\n- Lettuce\\n- Tomato\\n- Onion\\n- Pickles\\n- Cheese (optional)\\n- Condiments (such as ketchup, mustard, mayonnaise)\\n\\n**Instructions:**\\n\\n**1. Make the patties:**\\n- In a large bowl, combine the ground beef, onion, bread crumbs, egg, Worcestershire sauce, salt, and pepper. Mix well until the ingredients are evenly distributed.\\n- Divide the mixture into equal portions (4-6 patties). Shape each portion into a patty about 1/2 inch thick and 3 inches wide.\\n- Make a slight indentation in the center of each patty to prevent them from puffing up while cooking.\\n\\n**2. Cook the patties:**\\n- Heat a grill or grill pan over medium heat.\\n- Grill the patties for 4-5 minutes per side for medium-rare, 5-6 minutes per side for medium, or 6-7 minutes per side for medium-well.\\n- Use a meat thermometer to ensure the internal temperature reaches your desired doneness: 145\\302\\260F (63\\302\\260C) for medium-rare, 160\\302\\260F (71\\302\\260C) for medium, or 165\\302\\260F (74\\302\\260C) for medium-well.\\n- Let the patties rest for 5-10 minutes before assembling the burgers to allow the juices to redistribute.\\n\\n**3. Assemble the burgers:**\\n- Spread your preferred condiments on the bottom bun.\\n- Add the lettuce, tomato, onion, and pickles.\\n- Place the patty on top, followed by the cheese (if using).\\n- Add the top bun and serve immediately.\\n\\n**Tips:**\\n\\n* For a more flavorful burger, use a higher-quality ground beef (90/10 or 85/15).\\n* Don\\'t overmix the patty mixture, as this can make the burgers tough.\\n* Be careful not to overcook the patties, as they will become dry and tough.\\n* Toast the buns for a slightly crispy texture.\\n* Experiment with different toppings and condiments to create your own unique burger variations.\"\n",
              "  }\n",
              "  role: \"model\"\n",
              "}\n",
              "finish_reason: STOP\n",
              "index: 0\n",
              "safety_ratings {\n",
              "  category: HARM_CATEGORY_SEXUALLY_EXPLICIT\n",
              "  probability: NEGLIGIBLE\n",
              "}\n",
              "safety_ratings {\n",
              "  category: HARM_CATEGORY_HATE_SPEECH\n",
              "  probability: NEGLIGIBLE\n",
              "}\n",
              "safety_ratings {\n",
              "  category: HARM_CATEGORY_HARASSMENT\n",
              "  probability: NEGLIGIBLE\n",
              "}\n",
              "safety_ratings {\n",
              "  category: HARM_CATEGORY_DANGEROUS_CONTENT\n",
              "  probability: NEGLIGIBLE\n",
              "}\n",
              "]"
            ]
          },
          "execution_count": 15,
          "metadata": {},
          "output_type": "execute_result"
        }
      ],
      "source": [
        "response.candidates"
      ]
    },
    {
      "cell_type": "markdown",
      "metadata": {
        "id": "EJrwllLnHlBb"
      },
      "source": [
        "By default, the model returns a response after completing the entire generation process. You can also stream the response as it is being generated, and the model will return chunks of the response as soon as they are generated.\n",
        "\n",
        "To stream responses, use <a href=\"https://ai.google.dev/api/python/google/generativeai/GenerativeModel#generate_content\"><code>GenerativeModel.generate_content(..., stream=True)</code></a>."
      ]
    },
    {
      "cell_type": "markdown",
      "source": [
        "기본적으로 모델은 전체 생성 프로세스를 완료한 후 응답을 반환합니다. 응답이 생성되는 대로 스트리밍하여 모델이 응답 청크를 생성할 때마다 청크를 반환합니다.\n",
        "\n",
        "응답을 스트리밍하려면 <a href=\"https://ai.google.dev/api/python/google/generativeai/GenerativeModel#generate_content\"><code>GenerativeModel.generate_content(..., stream=True)</code></a>을 사용하세요."
      ],
      "metadata": {
        "id": "IIAldfvLv4zT"
      }
    },
    {
      "cell_type": "code",
      "execution_count": null,
      "metadata": {
        "colab": {
          "base_uri": "https://localhost:8080/",
          "height": 53
        },
        "id": "Z7n59b3hHo6-",
        "outputId": "87f90167-c051-4920-96aa-d05ad1101eac"
      },
      "outputs": [
        {
          "name": "stdout",
          "output_type": "stream",
          "text": [
            "CPU times: user 102 ms, sys: 10.1 ms, total: 112 ms\n",
            "Wall time: 8.22 s\n"
          ]
        }
      ],
      "source": [
        "%%time\n",
        "response = model.generate_content(\"please explain about making hamburger\", stream=True)"
      ]
    },
    {
      "cell_type": "code",
      "execution_count": null,
      "metadata": {
        "colab": {
          "base_uri": "https://localhost:8080/"
        },
        "id": "2jt0d0GCIUhg",
        "outputId": "86448041-d8b7-41cb-a743-2f93bc471e63"
      },
      "outputs": [
        {
          "name": "stdout",
          "output_type": "stream",
          "text": [
            "**Ingredients:**\n",
            "\n",
            "* Ground beef (80/20 recommended)\n",
            "\n",
            "________________________________________________________________________________\n",
            "* Salt and pepper\n",
            "* Hamburger buns\n",
            "* Toppings of your choice (e.g., lettuce, tomato, onion, cheese, ketchup, mustard)\n",
            "________________________________________________________________________________\n",
            "\n",
            "\n",
            "**Instructions:**\n",
            "\n",
            "**1. Season the Ground Beef:**\n",
            "* In a large bowl, combine the ground beef, salt, and pepper to taste. Mix well to distribute the seasonings evenly.\n",
            "\n",
            "**2. Form the Patties:**\n",
            "* Divide the seasoned ground beef into equal portions (about 4-\n",
            "________________________________________________________________________________\n",
            "6 patties).\n",
            "* Shape each portion into a patty about 1/2-inch thick. Make a slight indentation in the center of each patty to prevent it from doming during cooking.\n",
            "\n",
            "**3. Preheat the Grill or Pan:**\n",
            "* If grilling, preheat the grill to medium-high (400-450°F).\n",
            "* If using a pan, heat a non-stick skillet over medium heat.\n",
            "\n",
            "**4. Cook the Patties:**\n",
            "* Place the patties on the preheated grill or pan.\n",
            "* Cook for about 4-5 minutes per side, or until they\n",
            "________________________________________________________________________________\n",
            " reach your desired doneness (rare, medium, or well-done).\n",
            "\n",
            "**5. Add Cheese (Optional):**\n",
            "* If adding cheese, place a slice of cheese on top of each patty during the last minute of cooking.\n",
            "\n",
            "**6. Assemble the Hamburgers:**\n",
            "* Place the cooked patties on the hamburger buns.\n",
            "* Top with your desired toppings.\n",
            "\n",
            "**7. Enjoy:**\n",
            "* Serve the hamburgers warm and enjoy the juicy flavor and your favorite toppings.\n",
            "\n",
            "**Tips:**\n",
            "\n",
            "* Use a meat thermometer to check the internal temperature of the patties:\n",
            "    * Rare: 125°F or below\n",
            "    * Medium: 135°F\n",
            "    * Well-done: 155-165°F\n",
            "* Don't overwork the ground beef when forming the patties, as this can make them tough.\n",
            "* Let the patties rest for a few minutes before serving to allow the juices to redistribute, resulting in a juicier burger.\n",
            "* Experiment with different toppings to create unique and flavorful hamburgers.\n",
            "________________________________________________________________________________\n"
          ]
        }
      ],
      "source": [
        "for chunk in response:\n",
        "  print(chunk.text)\n",
        "  print(\"_\"*80)"
      ]
    },
    {
      "cell_type": "markdown",
      "metadata": {
        "id": "5b4Hkfj-pm3p"
      },
      "source": [
        "When streaming, some response attributes are not available until ㅁyou've iterated through all the response chunks. This is demonstrated below:\n",
        "\n",
        "스트리밍하는 경우 일부 응답 속성은 모든 응답 청크를 반복하기 전까지 사용할 수 없습니다. 아래에서 이를 보여줍니다:"
      ]
    },
    {
      "cell_type": "code",
      "execution_count": null,
      "metadata": {
        "id": "-URRx4chp0Kt"
      },
      "outputs": [],
      "source": [
        "response = model.generate_content(\"please explain about making hamburger\", stream=True)"
      ]
    },
    {
      "cell_type": "markdown",
      "metadata": {
        "id": "1HklomMEp9QM"
      },
      "source": [
        "The `prompt_feedback` attribute works:\n",
        "\n",
        "`prompt_feedback` 속성이 작동합니다:"
      ]
    },
    {
      "cell_type": "code",
      "execution_count": null,
      "metadata": {
        "colab": {
          "base_uri": "https://localhost:8080/"
        },
        "id": "i1BvdXjop2V-",
        "outputId": "6057c47c-624b-4f6e-dee9-47b6eec7a603"
      },
      "outputs": [
        {
          "data": {
            "text/plain": []
          },
          "execution_count": 20,
          "metadata": {},
          "output_type": "execute_result"
        }
      ],
      "source": [
        "response.prompt_feedback"
      ]
    },
    {
      "cell_type": "markdown",
      "metadata": {
        "id": "mVaFQ4RmqGOH"
      },
      "source": [
        "But attributes like <code>text</code> do not:\n",
        "\n",
        "하지만 `text`와 같은 속성은 작동하지 않습니다:"
      ]
    },
    {
      "cell_type": "code",
      "execution_count": null,
      "metadata": {
        "colab": {
          "base_uri": "https://localhost:8080/"
        },
        "id": "TiRkS6nCqFmM",
        "outputId": "8d534d90-7c85-471d-d685-7287ab2588c2"
      },
      "outputs": [
        {
          "name": "stdout",
          "output_type": "stream",
          "text": [
            "IncompleteIterationError: Please let the response complete iteration before accessing the final accumulated\n",
            "attributes (or call `response.resolve()`)\n"
          ]
        }
      ],
      "source": [
        "try:\n",
        "  response.text\n",
        "except Exception as e:\n",
        "  print(f'{type(e).__name__}: {e}')"
      ]
    },
    {
      "cell_type": "markdown",
      "metadata": {
        "id": "MCzr5ZpNhxLm"
      },
      "source": [
        "## Generate text from image and text inputs\n",
        "\n",
        "Gemini provides a multimodal model (`gemini-pro-vision`) that accepts both text and images and inputs. The `GenerativeModel.generate_content` API is designed to handle multimodal prompts and returns a text output.\n",
        "\n",
        "Let's include an image:"
      ]
    },
    {
      "cell_type": "markdown",
      "source": [
        "## 이미지 및 텍스트 입력에서 텍스트 생성하기\n",
        "\n",
        "Gemini는 텍스트 및 이미지 입력을 모두 허용하는 멀티모달 모델(`gemini-pro-vision`)을 제공합니다. `GenerativeModel.generate_content` API는 멀티모달 프롬프트를 처리하고 텍스트 출력을 반환하도록 설계되었습니다.\n",
        "\n",
        "이미지를 포함해 보겠습니다:"
      ],
      "metadata": {
        "id": "hQk2zaRHwnkq"
      }
    },
    {
      "cell_type": "code",
      "execution_count": null,
      "metadata": {
        "colab": {
          "base_uri": "https://localhost:8080/"
        },
        "id": "NtNGTBFF8Pgl",
        "outputId": "6de63db1-e9b1-4ec2-998c-745294293456"
      },
      "outputs": [
        {
          "name": "stdout",
          "output_type": "stream",
          "text": [
            "  % Total    % Received % Xferd  Average Speed   Time    Time     Time  Current\n",
            "                                 Dload  Upload   Total   Spent    Left  Speed\n",
            "\r  0     0    0     0    0     0      0      0 --:--:-- --:--:-- --:--:--     0\r100  405k  100  405k    0     0  4462k      0 --:--:-- --:--:-- --:--:-- 4500k\n"
          ]
        }
      ],
      "source": [
        "!curl -o image.jpg https://t0.gstatic.com/licensed-image?q=tbn:ANd9GcQ_Kevbk21QBRy-PgB4kQpS79brbmmEG7m3VOTShAn4PecDU5H5UxrJxE3Dw1JiaG17V88QIol19-3TM2wCHw"
      ]
    },
    {
      "cell_type": "code",
      "execution_count": null,
      "metadata": {
        "colab": {
          "background_save": true,
          "base_uri": "https://localhost:8080/",
          "height": 775
        },
        "id": "CjnS0vNTsVis",
        "outputId": "4b019d95-6ecf-4af0-abe1-6c4f770e6405"
      },
      "outputs": [],
      "source": [
        "import PIL.Image\n",
        "\n",
        "img = PIL.Image.open('image.jpg')\n",
        "img"
      ]
    },
    {
      "cell_type": "markdown",
      "metadata": {
        "id": "7r99TN2R8EUD"
      },
      "source": [
        "Use the `gemini-pro-vision` model and pass the image to the model with `generate_content`."
      ]
    },
    {
      "cell_type": "markdown",
      "source": [
        "`gemini-pro-vision` 모델을 사용하고 `generate_content`를 통해 이미지를 모델에 전달합니다."
      ],
      "metadata": {
        "id": "XyxrZBmPw4KO"
      }
    },
    {
      "cell_type": "code",
      "source": [
        "!curl -o image.jpg https://tech.osci.kr/wp-content/uploads/2023/03/hexagonal-architecture.png\n",
        "import PIL.Image\n",
        "\n",
        "img = PIL.Image.open('image.jpg')\n",
        "img"
      ],
      "metadata": {
        "colab": {
          "base_uri": "https://localhost:8080/",
          "height": 462
        },
        "id": "Uks9WYf7qZuE",
        "outputId": "48d3b2d0-8725-447c-c145-547a96a27372"
      },
      "execution_count": null,
      "outputs": [
        {
          "output_type": "stream",
          "name": "stdout",
          "text": [
            "  % Total    % Received % Xferd  Average Speed   Time    Time     Time  Current\n",
            "                                 Dload  Upload   Total   Spent    Left  Speed\n",
            "100 49719  100 49719    0     0  72781      0 --:--:-- --:--:-- --:--:-- 72688\n"
          ]
        },
        {
          "output_type": "execute_result",
          "data": {
            "text/plain": [
              "<PIL.PngImagePlugin.PngImageFile image mode=P size=956x470>"
            ],
            "image/png": "[encoded data removed]"
          },
          "metadata": {},
          "execution_count": 26
        }
      ]
    },
    {
      "cell_type": "code",
      "execution_count": null,
      "metadata": {
        "id": "EtXxgVzmJZzE"
      },
      "outputs": [],
      "source": [
        "model = genai.GenerativeModel('gemini-pro-vision')"
      ]
    },
    {
      "cell_type": "code",
      "execution_count": null,
      "metadata": {
        "id": "GwYifv298Cj3",
        "outputId": "b3483e93-62f4-49d1-ffac-9aa2f4686e4e",
        "colab": {
          "base_uri": "https://localhost:8080/",
          "height": 300
        }
      },
      "outputs": [
        {
          "output_type": "execute_result",
          "data": {
            "text/plain": [
              "<IPython.core.display.Markdown object>"
            ],
            "text/markdown": ">  This diagram is an example of a hexagonal architecture. It shows how a system can be divided into different layers, with each layer having a specific responsibility. The layers are:\n> \n> - Web adapter: This layer is responsible for handling web requests and responses.\n> - Input port: This layer is responsible for receiving data from the web adapter and converting it into a format that the application can understand.\n> - Use case: This layer is responsible for implementing the business logic of the application.\n> - Output port: This layer is responsible for converting the data from the use case layer into a format that the web adapter can understand.\n> - Persistence adapter: This layer is responsible for storing and retrieving data from a database.\n> - External system adapter: This layer is responsible for interacting with external systems, such as other web services or APIs.\n> \n> The hexagonal architecture is a good way to design systems because it allows for a clear separation of concerns. Each layer has a specific responsibility, which makes it easier to develop and maintain the system. Additionally, the hexagonal architecture makes it easier to test the system because each layer can be tested independently."
          },
          "metadata": {},
          "execution_count": 28
        }
      ],
      "source": [
        "response = model.generate_content(img)\n",
        "\n",
        "to_markdown(response.text)"
      ]
    },
    {
      "cell_type": "markdown",
      "metadata": {
        "id": "7xW2Kyra8pSz"
      },
      "source": [
        "To provide both text and images in a prompt, pass a list containing the strings and images:\n",
        "\n",
        "텍스트와 이미지를 프롬프트에 제공하려면 문자열과 이미지를 포함한 목록을 전달하세요."
      ]
    },
    {
      "cell_type": "code",
      "execution_count": null,
      "metadata": {
        "id": "vm9tUYeT8lBc"
      },
      "outputs": [],
      "source": [
        "response = model.generate_content([\"Write a short, engaging blog post based on this picture. It should include a description of the meal in the photo and talk about my journey meal prepping.\", img], stream=True)\n",
        "response.resolve()"
      ]
    },
    {
      "cell_type": "code",
      "execution_count": null,
      "metadata": {
        "id": "d46826OA9IDS",
        "outputId": "e8ca7400-2f8b-4d6a-9e1d-afc2a3690c1c",
        "colab": {
          "base_uri": "https://localhost:8080/",
          "height": 595
        }
      },
      "outputs": [
        {
          "output_type": "execute_result",
          "data": {
            "text/plain": [
              "<IPython.core.display.Markdown object>"
            ],
            "text/markdown": ">  I've always been a fan of meal prepping. It's a great way to save time and money, and it can also help you to eat healthier. But I'll admit, it can be hard to stay motivated. That's why I'm always looking for new and exciting recipes to try.\n> \n> This week, I decided to try out a new meal prep recipe that I found online. It's a chicken and vegetable stir-fry, and it's absolutely delicious! The best part is that it's so easy to make. I just prep all of the ingredients ahead of time, and then I cook it up in one pan. It's perfect for a busy weeknight!\n> \n> If you're looking for a new meal prep recipe to try, I highly recommend this chicken and vegetable stir-fry. It's healthy, delicious, and easy to make. Plus, it's a great way to get your daily dose of vegetables.\n> \n> Here's the recipe:\n> \n> Ingredients:\n> \n> * 1 pound boneless, skinless chicken breasts, cut into 1-inch pieces\n> * 1 tablespoon olive oil\n> * 1/2 cup chopped onion\n> * 1/2 cup chopped green bell pepper\n> * 1/2 cup chopped red bell pepper\n> * 1 (15 ounce) can stir-fry vegetables\n> * 1/2 cup soy sauce\n> * 1/4 cup water\n> * 1 tablespoon cornstarch\n> * 1 teaspoon ground black pepper\n> \n> Instructions:\n> \n> 1. Heat the olive oil in a large skillet over medium heat.\n> 2. Add the chicken and cook until browned on all sides.\n> 3. Add the onion, green bell pepper, and red bell pepper and cook until softened.\n> 4. Stir in the stir-fry vegetables, soy sauce, water, cornstarch, and black pepper.\n> 5. Bring to a boil, then reduce heat and simmer for 1 minute, or until the sauce has thickened.\n> 6. Serve over rice.\n> \n> Enjoy!"
          },
          "metadata": {},
          "execution_count": 30
        }
      ],
      "source": [
        "to_markdown(response.text)"
      ]
    },
    {
      "cell_type": "markdown",
      "metadata": {
        "id": "zsIZmCYVTDHD"
      },
      "source": [
        "## Chat conversations\n",
        "\n",
        "Gemini enables you to have freeform conversations across multiple turns. The `ChatSession` class simplifies the process by managing the state of the conversation, so unlike with `generate_content`, you do not have to store the conversation history as a list.\n",
        "\n",
        "Initialize the chat:"
      ]
    },
    {
      "cell_type": "markdown",
      "source": [
        "## 대화 대화\n",
        "\n",
        "Gemini를 사용하면 여러 턴에 걸쳐 자유롭게 대화할 수 있습니다. `ChatSession` 클래스는 대화의 상태를 관리하여 `generate_content`와 달리 대화 기록을 목록으로 저장할 필요가 없도록 프로세스를 간소화합니다.\n",
        "\n",
        "대화를 초기화하세요:"
      ],
      "metadata": {
        "id": "uUHt7IaNxElG"
      }
    },
    {
      "cell_type": "code",
      "execution_count": null,
      "metadata": {
        "id": "y8B9Mwo-TCr2",
        "outputId": "6301aeac-f4df-46cd-a90f-3923fee3734c",
        "colab": {
          "base_uri": "https://localhost:8080/"
        }
      },
      "outputs": [
        {
          "output_type": "execute_result",
          "data": {
            "text/plain": [
              "ChatSession(\n",
              "    model=genai.GenerativeModel(\n",
              "        model_name='models/gemini-pro',\n",
              "        generation_config={},\n",
              "        safety_settings={},\n",
              "        tools=None,\n",
              "        system_instruction=None,\n",
              "    ),\n",
              "    history=[]\n",
              ")"
            ]
          },
          "metadata": {},
          "execution_count": 31
        }
      ],
      "source": [
        "model = genai.GenerativeModel('gemini-pro')\n",
        "chat = model.start_chat(history=[])\n",
        "chat"
      ]
    },
    {
      "cell_type": "markdown",
      "metadata": {
        "id": "88Il02N-km9j"
      },
      "source": [
        "Note: The vision model `gemini-pro-vision` is not optimized for multi-turn chat.\n"
      ]
    },
    {
      "cell_type": "markdown",
      "metadata": {
        "id": "5odluV7kKbgr"
      },
      "source": [
        "The `ChatSession.send_message` method returns the same `GenerateContentResponse` type as <a href=\"https://ai.google.dev/api/python/google/generativeai/GenerativeModel#generate_content\"><code>GenerativeModel.generate_content</code></a>. It also appends your message and the response to the chat history:"
      ]
    },
    {
      "cell_type": "markdown",
      "source": [
        "참고: 비전 모델 `gemini-pro-vision`은 다중 턴 채팅에 최적화되지 않았습니다."
      ],
      "metadata": {
        "id": "jJcaMFlSxOrz"
      }
    },
    {
      "cell_type": "markdown",
      "source": [
        "`ChatSession.send_message` 메서드는 <a href=\"https://ai.google.dev/api/python/google/generativeai/GenerativeModel#generate_content\"><code>GenerativeModel.generate_content</code></a>와 동일한 `GenerateContentResponse` 유형을 반환합니다. 또한 메시지와 응답을 대화 기록에 추가합니다."
      ],
      "metadata": {
        "id": "tV1VG2uFxLSL"
      }
    },
    {
      "cell_type": "code",
      "execution_count": null,
      "metadata": {
        "id": "b72zbOEjKRxP",
        "outputId": "084b7169-03f6-4adb-88aa-5afa43689002",
        "colab": {
          "base_uri": "https://localhost:8080/",
          "height": 80
        }
      },
      "outputs": [
        {
          "output_type": "execute_result",
          "data": {
            "text/plain": [
              "<IPython.core.display.Markdown object>"
            ],
            "text/markdown": "> Making an airplane involves designing, engineering, and assembling various components, such as the fuselage, wings, engines, and flight control systems, to create a vehicle capable of controlled flight."
          },
          "metadata": {},
          "execution_count": 47
        }
      ],
      "source": [
        "response = chat.send_message(\"In one sentence, please explain about making airplane?.\")\n",
        "to_markdown(response.text)"
      ]
    },
    {
      "cell_type": "code",
      "execution_count": null,
      "metadata": {
        "id": "5-5HS2bTOTU9",
        "outputId": "270bdb24-814d-4dcd-9962-00b8dfcc0148",
        "colab": {
          "base_uri": "https://localhost:8080/"
        }
      },
      "outputs": [
        {
          "output_type": "execute_result",
          "data": {
            "text/plain": [
              "[parts {\n",
              "   text: \"In one sentence, explain how a computer works to a young child.\"\n",
              " }\n",
              " role: \"user\",\n",
              " parts {\n",
              "   text: \"A computer is like a magical box that can use your special commands to do lots of fun things, like play games, make pictures, and even talk to you!\"\n",
              " }\n",
              " role: \"model\",\n",
              " parts {\n",
              "   text: \"Okay, how about a more detailed explanation to a high schooler?\"\n",
              " }\n",
              " role: \"user\",\n",
              " parts {\n",
              "   text: \"At its core, a computer is a machine that can be programmed to carry out a set of instructions. These instructions are typically stored in a program, which is a set of organized commands that tell the computer what to do. The computer\\'s central processing unit (CPU) reads and executes these instructions, performing calculations and operations on data. The results of these operations are stored in the computer\\'s memory, and can be used by other programs or displayed to the user. Input devices, such as a keyboard and mouse, allow the user to interact with the computer and provide it with instructions. Output devices, such as a monitor and printer, allow the computer to communicate its results to the user.\\n\\nIn addition to the CPU and memory, a computer also typically has storage devices, such as a hard drive or solid-state drive, which are used to store programs and data permanently. It may also have a graphics card, which is responsible for rendering images and videos, and a sound card, which is responsible for generating sound.\\n\\nOverall, a computer is a powerful tool that can be used for a wide variety of tasks, from simple calculations to complex scientific simulations. By understanding the basic principles of how a computer works, you can use it more effectively and efficiently.\"\n",
              " }\n",
              " role: \"model\",\n",
              " parts {\n",
              "   text: \"In one sentence, please explain about making airplane?.\"\n",
              " }\n",
              " role: \"user\",\n",
              " parts {\n",
              "   text: \"Making an airplane involves designing, engineering, and assembling various components, such as the fuselage, wings, engines, and flight control systems, to create a vehicle capable of controlled flight.\"\n",
              " }\n",
              " role: \"model\"]"
            ]
          },
          "metadata": {},
          "execution_count": 49
        }
      ],
      "source": [
        "chat.history"
      ]
    },
    {
      "cell_type": "markdown",
      "metadata": {
        "id": "7JaiFSIvOcVb"
      },
      "source": [
        "You can keep sending messages to continue the conversation. Use the `stream=True` argument to stream the chat:\n",
        "\n",
        "대화를 계속하려면 메시지를 계속 보낼 수 있습니다. 채팅을 스트리밍하려면 `stream=True` 인자를 사용하세요."
      ]
    },
    {
      "cell_type": "code",
      "execution_count": null,
      "metadata": {
        "id": "Vxku7mzSObfZ",
        "outputId": "d51f7c5e-4225-400a-a2dc-af9d2d3ae69b",
        "colab": {
          "base_uri": "https://localhost:8080/",
          "height": 483
        }
      },
      "outputs": [
        {
          "output_type": "stream",
          "name": "stdout",
          "text": [
            "**Detailed explanation of making an airplane to an aircraft engineer**\n",
            "\n",
            "Making an airplane\n",
            "________________________________________________________________________________\n",
            " is a complex and challenging process that involves the following steps:\n",
            "\n",
            "1. **Conceptual design**. The first step in making an airplane is to develop a conceptual design\n",
            "________________________________________________________________________________\n",
            ". This involves defining the aircraft's mission, performance requirements, and overall configuration. The conceptual design process also includes developing a preliminary design of the aircraft's major systems and components.\n",
            "2. **Preliminary design**. Once the conceptual design is complete, the next step is to develop a preliminary design of the aircraft.\n",
            "________________________________________________________________________________\n",
            " This involves developing detailed plans and specifications for each component of the aircraft. The preliminary design process also includes conducting wind tunnel tests and other simulations to verify the aircraft's aerodynamic performance.\n",
            "3. **Detailed design**. Once the preliminary design is complete, the next step is to develop a detailed design of the aircraft. This involves developing detailed drawings and specifications for each part of the aircraft. The detailed design process also includes conducting further wind tunnel tests and simulations to refine the aircraft's aerodynamic performance.\n",
            "4. **Manufacturing**. Once the detailed design is complete, the next step is to manufacture the aircraft's components. This is typically done\n",
            "________________________________________________________________________________\n",
            " in a factory setting, where the aircraft is assembled on a production line. The manufacturing process involves forming, machining, and assembling the various components of the aircraft.\n",
            "5. **Assembly**. Once the components have been manufactured, the next step is to assemble the aircraft. This is typically done in a factory setting, where the aircraft is assembled on a production line. The assembly process involves joining the various components together using fasteners, adhesives, and welding.\n",
            "6. **Testing**. Once the aircraft is assembled, it must be tested to ensure that it meets all safety and performance requirements. This involves conducting ground tests, flight tests, and systems tests.\n",
            "7. **Certification**. If the aircraft passes all of the tests, it is then certified by the relevant aviation authority. This certification process ensures that the aircraft is safe to fly.\n",
            "8. **Delivery**. Once the aircraft is certified, it is then ready to be delivered to the customer. The customer may be an airline, a government agency, or a private individual.\n",
            "\n",
            "Making an airplane is a complex and challenging process, but it is also a rewarding one. Airplanes are essential for transportation, commerce, and national defense. By understanding the process of making an airplane, you can appreciate the complexity and engineering marvel of\n",
            "________________________________________________________________________________\n",
            " these amazing machines.\n",
            "________________________________________________________________________________\n"
          ]
        }
      ],
      "source": [
        "response = chat.send_message(\"Okay, how about a more detailed explanation to a aircraft engineer?\", stream=True)\n",
        "\n",
        "for chunk in response:\n",
        "  print(chunk.text)\n",
        "  print(\"_\"*80)"
      ]
    },
    {
      "cell_type": "markdown",
      "metadata": {
        "id": "AwCqtZ6D4kvk"
      },
      "source": [
        "`glm.Content` objects contain a list of `glm.Part` objects that each contain either a text (string) or inline_data (`glm.Blob`), where a blob contains binary data and a `mime_type`. The chat history is available as a list of `glm.Content` objects in `ChatSession.history`:"
      ]
    },
    {
      "cell_type": "markdown",
      "source": [
        "`glm.Content` 객체에는 텍스트(문자열) 또는 `inline_data`(`glm.Blob`)를 포함하는 `glm.Part` 객체의 목록이 있습니다. 여기서 blob에는 이진 데이터와 `mime_type`이 포함됩니다. 채팅 기록은 `ChatSession.history`에 `glm.Content` 객체의 목록으로 사용할 수 있습니다."
      ],
      "metadata": {
        "id": "vy0MiFAQxaP0"
      }
    },
    {
      "cell_type": "code",
      "execution_count": null,
      "metadata": {
        "id": "WvyTmbC2d0k3",
        "outputId": "6c7e0f9e-a537-4000-d993-c10d94b1ea65",
        "colab": {
          "base_uri": "https://localhost:8080/",
          "height": 1000
        }
      },
      "outputs": [
        {
          "output_type": "display_data",
          "data": {
            "text/plain": [
              "<IPython.core.display.Markdown object>"
            ],
            "text/markdown": "> **user**: In one sentence, explain how a computer works to a young child."
          },
          "metadata": {}
        },
        {
          "output_type": "display_data",
          "data": {
            "text/plain": [
              "<IPython.core.display.Markdown object>"
            ],
            "text/markdown": "> **model**: A computer is like a magical box that can use your special commands to do lots of fun things, like play games, make pictures, and even talk to you!"
          },
          "metadata": {}
        },
        {
          "output_type": "display_data",
          "data": {
            "text/plain": [
              "<IPython.core.display.Markdown object>"
            ],
            "text/markdown": "> **user**: Okay, how about a more detailed explanation to a high schooler?"
          },
          "metadata": {}
        },
        {
          "output_type": "display_data",
          "data": {
            "text/plain": [
              "<IPython.core.display.Markdown object>"
            ],
            "text/markdown": "> **model**: At its core, a computer is a machine that can be programmed to carry out a set of instructions. These instructions are typically stored in a program, which is a set of organized commands that tell the computer what to do. The computer's central processing unit (CPU) reads and executes these instructions, performing calculations and operations on data. The results of these operations are stored in the computer's memory, and can be used by other programs or displayed to the user. Input devices, such as a keyboard and mouse, allow the user to interact with the computer and provide it with instructions. Output devices, such as a monitor and printer, allow the computer to communicate its results to the user.\n> \n> In addition to the CPU and memory, a computer also typically has storage devices, such as a hard drive or solid-state drive, which are used to store programs and data permanently. It may also have a graphics card, which is responsible for rendering images and videos, and a sound card, which is responsible for generating sound.\n> \n> Overall, a computer is a powerful tool that can be used for a wide variety of tasks, from simple calculations to complex scientific simulations. By understanding the basic principles of how a computer works, you can use it more effectively and efficiently."
          },
          "metadata": {}
        },
        {
          "output_type": "display_data",
          "data": {
            "text/plain": [
              "<IPython.core.display.Markdown object>"
            ],
            "text/markdown": "> **user**: In one sentence, please explain about making airplane?."
          },
          "metadata": {}
        },
        {
          "output_type": "display_data",
          "data": {
            "text/plain": [
              "<IPython.core.display.Markdown object>"
            ],
            "text/markdown": "> **model**: Making an airplane involves designing, engineering, and assembling various components, such as the fuselage, wings, engines, and flight control systems, to create a vehicle capable of controlled flight."
          },
          "metadata": {}
        },
        {
          "output_type": "display_data",
          "data": {
            "text/plain": [
              "<IPython.core.display.Markdown object>"
            ],
            "text/markdown": "> **user**: Okay, how about a more detailed explanation to a professor?"
          },
          "metadata": {}
        },
        {
          "output_type": "display_data",
          "data": {
            "text/plain": [
              "<IPython.core.display.Markdown object>"
            ],
            "text/markdown": "> **model**: **Detailed explanation of making an airplane to a professor**\n> \n> Making an airplane is a complex process that involves designing, engineering, and assembling various components, such as the fuselage, wings, engines, and flight control systems, to create a vehicle capable of controlled flight.\n> \n> The first step in making an airplane is to design the aircraft. This involves determining the aircraft's purpose, size, shape, and performance requirements. The design process also includes developing detailed plans and specifications for each component of the aircraft.\n> \n> Once the design is complete, the next step is to engineer the aircraft. This involves calculating the stresses and loads that the aircraft will experience during flight and ensuring that the aircraft is strong enough to withstand these forces. The engineering process also includes developing manufacturing plans and procedures for each component of the aircraft.\n> \n> Once the aircraft has been engineered, the next step is to assemble the various components. This is typically done in a factory setting, where the aircraft is assembled on a production line. The assembly process involves joining the various components together using fasteners, adhesives, and welding.\n> \n> Once the aircraft is assembled, it must be tested to ensure that it meets all safety and performance requirements. This involves conducting ground tests, flight tests, and systems tests.\n> \n> If the aircraft passes all of the tests, it is then ready to be delivered to the customer. The customer may be an airline, a government agency, or a private individual.\n> \n> Making an airplane is a complex and challenging process, but it is also a rewarding one. Airplanes are essential for transportation, commerce, and national defense. By understanding the process of making an airplane, you can appreciate the complexity and engineering marvel of these amazing machines."
          },
          "metadata": {}
        },
        {
          "output_type": "display_data",
          "data": {
            "text/plain": [
              "<IPython.core.display.Markdown object>"
            ],
            "text/markdown": "> **user**: Okay, how about a more detailed explanation to a professor?"
          },
          "metadata": {}
        },
        {
          "output_type": "display_data",
          "data": {
            "text/plain": [
              "<IPython.core.display.Markdown object>"
            ],
            "text/markdown": "> **model**: **More detailed explanation of making an airplane to a professor**\n> \n> Making an airplane is a complex and challenging process that involves the following steps:\n> \n> 1. **Design**. The first step is to design the aircraft. This involves determining the aircraft's purpose, size, shape, and performance requirements. The design process also includes developing detailed plans and specifications for each component of the aircraft.\n> 2. **Engineering**. Once the design is complete, the next step is to engineer the aircraft. This involves calculating the stresses and loads that the aircraft will experience during flight and ensuring that the aircraft is strong enough to withstand these forces. The engineering process also includes developing manufacturing plans and procedures for each component of the aircraft.\n> 3. **Manufacturing**. Once the aircraft has been engineered, the next step is to manufacture the various components. This is typically done in a factory setting, where the aircraft is assembled on a production line. The manufacturing process involves forming, machining, and assembling the various components of the aircraft.\n> 4. **Assembly**. Once the components have been manufactured, the next step is to assemble the aircraft. This is typically done in a factory setting, where the aircraft is assembled on a production line. The assembly process involves joining the various components together using fasteners, adhesives, and welding.\n> 5. **Testing**. Once the aircraft is assembled, it must be tested to ensure that it meets all safety and performance requirements. This involves conducting ground tests, flight tests, and systems tests.\n> 6. **Certification**. If the aircraft passes all of the tests, it is then certified by the relevant aviation authority. This certification process ensures that the aircraft is safe to fly.\n> 7. **Delivery**. Once the aircraft is certified, it is then ready to be delivered to the customer. The customer may be an airline, a government agency, or a private individual.\n> \n> Making an airplane is a complex and challenging process, but it is also a rewarding one. Airplanes are essential for transportation, commerce, and national defense. By understanding the process of making an airplane, you can appreciate the complexity and engineering marvel of these amazing machines."
          },
          "metadata": {}
        },
        {
          "output_type": "display_data",
          "data": {
            "text/plain": [
              "<IPython.core.display.Markdown object>"
            ],
            "text/markdown": "> **user**: Okay, how about a more detailed explanation to a aircraft engineer?"
          },
          "metadata": {}
        },
        {
          "output_type": "display_data",
          "data": {
            "text/plain": [
              "<IPython.core.display.Markdown object>"
            ],
            "text/markdown": "> **model**: **Detailed explanation of making an airplane to an aircraft engineer**\n> \n> Making an airplane is a complex and challenging process that involves the following steps:\n> \n> 1. **Conceptual design**. The first step in making an airplane is to develop a conceptual design. This involves defining the aircraft's mission, performance requirements, and overall configuration. The conceptual design process also includes developing a preliminary design of the aircraft's major systems and components.\n> 2. **Preliminary design**. Once the conceptual design is complete, the next step is to develop a preliminary design of the aircraft. This involves developing detailed plans and specifications for each component of the aircraft. The preliminary design process also includes conducting wind tunnel tests and other simulations to verify the aircraft's aerodynamic performance.\n> 3. **Detailed design**. Once the preliminary design is complete, the next step is to develop a detailed design of the aircraft. This involves developing detailed drawings and specifications for each part of the aircraft. The detailed design process also includes conducting further wind tunnel tests and simulations to refine the aircraft's aerodynamic performance.\n> 4. **Manufacturing**. Once the detailed design is complete, the next step is to manufacture the aircraft's components. This is typically done in a factory setting, where the aircraft is assembled on a production line. The manufacturing process involves forming, machining, and assembling the various components of the aircraft.\n> 5. **Assembly**. Once the components have been manufactured, the next step is to assemble the aircraft. This is typically done in a factory setting, where the aircraft is assembled on a production line. The assembly process involves joining the various components together using fasteners, adhesives, and welding.\n> 6. **Testing**. Once the aircraft is assembled, it must be tested to ensure that it meets all safety and performance requirements. This involves conducting ground tests, flight tests, and systems tests.\n> 7. **Certification**. If the aircraft passes all of the tests, it is then certified by the relevant aviation authority. This certification process ensures that the aircraft is safe to fly.\n> 8. **Delivery**. Once the aircraft is certified, it is then ready to be delivered to the customer. The customer may be an airline, a government agency, or a private individual.\n> \n> Making an airplane is a complex and challenging process, but it is also a rewarding one. Airplanes are essential for transportation, commerce, and national defense. By understanding the process of making an airplane, you can appreciate the complexity and engineering marvel of these amazing machines."
          },
          "metadata": {}
        }
      ],
      "source": [
        "for message in chat.history:\n",
        "  display(to_markdown(f'**{message.role}**: {message.parts[0].text}'))"
      ]
    },
    {
      "cell_type": "markdown",
      "metadata": {
        "id": "AEgVOYu0pAr4"
      },
      "source": [
        "## Count tokens\n",
        "\n",
        "Large language models have a context window, and the context length is often measured in terms of the **number of tokens**. With the Gemini API, you can determine the number of tokens per any `glm.Content` object. In the simplest case, you can pass a query string to the `GenerativeModel.count_tokens` method as follows:"
      ]
    },
    {
      "cell_type": "markdown",
      "source": [
        "## 토큰 수 세기\n",
        "\n",
        "대형 언어 모델은 컨텍스트 창을 가지고 있으며, 컨텍스트 길이는 일반적으로 **토큰의 수**로 측정됩니다. Gemini API를 사용하면 어떤 `glm.Content` 객체의 토큰 수를 결정할 수 있습니다. 가장 간단한 경우에는 다음과 같이 쿼리 문자열을 `GenerativeModel.count_tokens` 메서드에 전달할 수 있습니다:"
      ],
      "metadata": {
        "id": "DTsbemtFxecR"
      }
    },
    {
      "cell_type": "code",
      "execution_count": null,
      "metadata": {
        "id": "eLjBmPCLpElk",
        "outputId": "7b655452-2b77-4f3e-d3a8-54734617ec29",
        "colab": {
          "base_uri": "https://localhost:8080/",
          "height": 35
        }
      },
      "outputs": [
        {
          "output_type": "execute_result",
          "data": {
            "text/plain": [
              "total_tokens: 7"
            ]
          },
          "metadata": {},
          "execution_count": 55
        }
      ],
      "source": [
        "model.count_tokens(\"please explain about making F1 Car\")"
      ]
    },
    {
      "cell_type": "markdown",
      "metadata": {
        "id": "oM2_U8pmpHQA"
      },
      "source": [
        "Similarly, you can check `token_count` for your `ChatSession`:"
      ]
    },
    {
      "cell_type": "code",
      "execution_count": null,
      "metadata": {
        "id": "i0MUU4BZpG4_",
        "outputId": "9869e7de-0034-4f6c-ef9e-ae3b0bdf9a8a",
        "colab": {
          "base_uri": "https://localhost:8080/",
          "height": 35
        }
      },
      "outputs": [
        {
          "output_type": "execute_result",
          "data": {
            "text/plain": [
              "total_tokens: 1681"
            ]
          },
          "metadata": {},
          "execution_count": 56
        }
      ],
      "source": [
        "model.count_tokens(chat.history)"
      ]
    },
    {
      "cell_type": "markdown",
      "metadata": {
        "id": "f9bU0J3vUIbz"
      },
      "source": [
        "## Use embeddings"
      ]
    },
    {
      "cell_type": "markdown",
      "metadata": {
        "id": "BpHIRU5bj7aW"
      },
      "source": [
        "[Embedding](https://developers.google.com/machine-learning/glossary#embedding-vector) is a technique used to represent information as a list of floating point numbers in an array. With Gemini, you can represent text (words, sentences, and blocks of text) in a vectorized form, making it easier to compare and contrast embeddings. For example, two texts that share a similar subject matter or sentiment should have similar embeddings, which can be identified through mathematical comparison techniques such as cosine similarity. For more on how and why you should use embeddings, refer to the [Embeddings guide](https://ai.google.dev/docs/embeddings_guide).\n",
        "\n",
        "Use the `embed_content` method to generate embeddings. The method handles embedding for the following tasks (`task_type`):\n",
        "\n",
        "Task Type | Description\n",
        "---       | ---\n",
        "RETRIEVAL_QUERY\t| Specifies the given text is a query in a search/retrieval setting.\n",
        "RETRIEVAL_DOCUMENT | Specifies the given text is a document in a search/retrieval setting. Using this task type requires a `title`.\n",
        "SEMANTIC_SIMILARITY\t| Specifies the given text will be used for Semantic Textual Similarity (STS).\n",
        "CLASSIFICATION\t| Specifies that the embeddings will be used for classification.\n",
        "CLUSTERING\t| Specifies that the embeddings will be used for clustering.\n",
        "\n",
        "The following generates an embedding for a single string for document retrieval:"
      ]
    },
    {
      "cell_type": "markdown",
      "source": [
        "\"임베딩(embedding)\"은 정보를 배열 안의 부동 소수점 숫자 목록으로 표현하는 기술입니다. Gemini를 사용하면 텍스트(단어, 문장, 텍스트 블록)를 벡터 형식으로 표현할 수 있어, 임베딩을 비교하고 대조하는 것이 더 쉬워집니다. 예를 들어, 비슷한 주제나 감정을 공유하는 두 텍스트는 유사한 임베딩을 가지며, 코사인 유사도 같은 수학적 비교 기술을 통해 이를 식별할 수 있습니다. 임베딩을 사용하는 방법과 이유에 대해 더 알고 싶다면 [임베딩 가이드](https://ai.google.dev/docs/embeddings_guide)를 참조하세요.\n",
        "\n",
        "`embed_content` 메소드를 사용하여 임베딩을 생성할 수 있습니다. 이 메소드는 다음과 같은 작업 유형(`task_type`)에 대한 임베딩을 처리합니다:\n",
        "\n",
        "작업 유형 | 설명\n",
        "---       | ---\n",
        "RETRIEVAL_QUERY | 주어진 텍스트가 검색/검색 설정에서 질문임을 명시합니다.\n",
        "RETRIEVAL_DOCUMENT | 주어진 텍스트가 문서임을 명시합니다. 이 작업 유형을 사용하려면 `title`이 필요합니다.\n",
        "SEMANTIC_SIMILARITY | 주어진 텍스트가 의미적 텍스트 유사성(STS)용임을 명시합니다.\n",
        "CLASSIFICATION | 임베딩이 분류에 사용될 것임을 명시합니다.\n",
        "CLUSTERING | 임베딩이 클러스터링에 사용될 것임을 명시합니다.\n",
        "\n",
        "다음은 단일 문자열에 대한 임베딩을 문서 검색을 위해 생성하는 예시입니다:"
      ],
      "metadata": {
        "id": "YDwWENRmsVl_"
      }
    },
    {
      "cell_type": "code",
      "execution_count": null,
      "metadata": {
        "id": "hskqSKnJUHvp",
        "outputId": "6a187728-cbf0-49e0-9fa1-4eca43b7b267",
        "colab": {
          "base_uri": "https://localhost:8080/",
          "height": 35
        }
      },
      "outputs": [
        {
          "output_type": "stream",
          "name": "stdout",
          "text": [
            "[-0.025198877, -0.01587054, 0.010725722, 0.0128723 ... TRIMMED]\n"
          ]
        }
      ],
      "source": [
        "result = genai.embed_content(\n",
        "    model=\"models/embedding-001\",\n",
        "    content=\"please explain about making airplane?\",\n",
        "    task_type=\"retrieval_document\",\n",
        "    title=\"Embedding of single string\")\n",
        "\n",
        "# 1 input > 1 vector output\n",
        "print(str(result['embedding'])[:50], '... TRIMMED]')"
      ]
    },
    {
      "cell_type": "markdown",
      "metadata": {
        "id": "OcSc3KfflBCQ"
      },
      "source": [
        "Note: The `retrieval_document` task type is the only task that accepts a title.\n",
        "\n",
        "To handle batches of strings, pass a list of strings in `content`:"
      ]
    },
    {
      "cell_type": "markdown",
      "source": [
        "참고: `retrieval_document` 작업 유형은 제목을 입력으로 받는 유일한 작업입니다.\n",
        "\n",
        "여러 문자열을 처리하려면 `content`에 문자열 목록을 전달하세요."
      ],
      "metadata": {
        "id": "t8HPFASQtMVq"
      }
    },
    {
      "cell_type": "code",
      "execution_count": null,
      "metadata": {
        "id": "OnyD-Joik8LE",
        "outputId": "07dff0b1-5333-443b-e844-f20e2527b837",
        "colab": {
          "base_uri": "https://localhost:8080/",
          "height": 71
        }
      },
      "outputs": [
        {
          "output_type": "stream",
          "name": "stdout",
          "text": [
            "[-0.021854682, 0.0047592227, 0.0069873533, 0.02314 ... TRIMMED ...\n",
            "[0.046541963, -0.022853062, -0.0025614193, -0.0034 ... TRIMMED ...\n",
            "[0.01056143, 0.0118803475, -0.029966546, 0.0002073 ... TRIMMED ...\n"
          ]
        }
      ],
      "source": [
        "result = genai.embed_content(\n",
        "    model=\"models/embedding-001\",\n",
        "    content=[\n",
        "      'please explain about making airplane?',\n",
        "      'Who is Donald Trump?',\n",
        "      'How does car moving?'],\n",
        "    task_type=\"retrieval_document\",\n",
        "    title=\"Embedding of list of strings\")\n",
        "\n",
        "# A list of inputs > A list of vectors output\n",
        "for v in result['embedding']:\n",
        "  print(str(v)[:50], '... TRIMMED ...')"
      ]
    },
    {
      "cell_type": "markdown",
      "metadata": {
        "id": "zBg0eNeml3d4"
      },
      "source": [
        "While the `genai.embed_content` function accepts simple strings or lists of strings, it is actually built around the `glm.Content` type (like <a href=\"https://ai.google.dev/api/python/google/generativeai/GenerativeModel#generate_content\"><code>GenerativeModel.generate_content</code></a>). `glm.Content` objects are the primary units of conversation in the API.\n",
        "\n",
        "While the `glm.Content` object is multimodal, the `embed_content` method only supports text embeddings. This design gives the API the *possibility* to expand to multimodal embeddings."
      ]
    },
    {
      "cell_type": "markdown",
      "source": [
        "`genai.embed_content` 함수는 단순한 문자열이나 문자열 목록을 받지만, 실제로는 `glm.Content` 유형을 기반으로 구축되었습니다 (`GenerativeModel.generate_content`과 유사함). `glm.Content` 객체는 API에서 주요 대화 단위입니다.\n",
        "\n",
        "`glm.Content` 객체는 멀티모달(multimodal)이지만, `embed_content` 메서드는 현재 텍스트 임베딩만 지원합니다. 이 설계는 API가 멀티모달 임베딩으로 확장될 *가능성*을 제공합니다."
      ],
      "metadata": {
        "id": "xC-d-RRWtTEv"
      }
    },
    {
      "cell_type": "code",
      "execution_count": null,
      "metadata": {
        "id": "1-wmapZznXrm",
        "outputId": "48145a99-635e-45af-89ff-255c35606eff",
        "colab": {
          "base_uri": "https://localhost:8080/"
        }
      },
      "outputs": [
        {
          "output_type": "execute_result",
          "data": {
            "text/plain": [
              "parts {\n",
              "  text: \"**Detailed explanation of making an airplane to an aircraft engineer**\\n\\nMaking an airplane is a complex and challenging process that involves the following steps:\\n\\n1. **Conceptual design**. The first step in making an airplane is to develop a conceptual design. This involves defining the aircraft\\'s mission, performance requirements, and overall configuration. The conceptual design process also includes developing a preliminary design of the aircraft\\'s major systems and components.\\n2. **Preliminary design**. Once the conceptual design is complete, the next step is to develop a preliminary design of the aircraft. This involves developing detailed plans and specifications for each component of the aircraft. The preliminary design process also includes conducting wind tunnel tests and other simulations to verify the aircraft\\'s aerodynamic performance.\\n3. **Detailed design**. Once the preliminary design is complete, the next step is to develop a detailed design of the aircraft. This involves developing detailed drawings and specifications for each part of the aircraft. The detailed design process also includes conducting further wind tunnel tests and simulations to refine the aircraft\\'s aerodynamic performance.\\n4. **Manufacturing**. Once the detailed design is complete, the next step is to manufacture the aircraft\\'s components. This is typically done in a factory setting, where the aircraft is assembled on a production line. The manufacturing process involves forming, machining, and assembling the various components of the aircraft.\\n5. **Assembly**. Once the components have been manufactured, the next step is to assemble the aircraft. This is typically done in a factory setting, where the aircraft is assembled on a production line. The assembly process involves joining the various components together using fasteners, adhesives, and welding.\\n6. **Testing**. Once the aircraft is assembled, it must be tested to ensure that it meets all safety and performance requirements. This involves conducting ground tests, flight tests, and systems tests.\\n7. **Certification**. If the aircraft passes all of the tests, it is then certified by the relevant aviation authority. This certification process ensures that the aircraft is safe to fly.\\n8. **Delivery**. Once the aircraft is certified, it is then ready to be delivered to the customer. The customer may be an airline, a government agency, or a private individual.\\n\\nMaking an airplane is a complex and challenging process, but it is also a rewarding one. Airplanes are essential for transportation, commerce, and national defense. By understanding the process of making an airplane, you can appreciate the complexity and engineering marvel of these amazing machines.\"\n",
              "}\n",
              "role: \"model\""
            ]
          },
          "metadata": {},
          "execution_count": 62
        }
      ],
      "source": [
        "response.candidates[0].content"
      ]
    },
    {
      "cell_type": "code",
      "execution_count": null,
      "metadata": {
        "id": "cvX5jsrcnufk",
        "outputId": "8f403015-fd52-4635-9b6a-86ea69883531",
        "colab": {
          "base_uri": "https://localhost:8080/",
          "height": 35
        }
      },
      "outputs": [
        {
          "output_type": "stream",
          "name": "stdout",
          "text": [
            "[-0.030313477, -0.030683737, -0.0111708725, 0.0455 ... TRIMMED ...\n"
          ]
        }
      ],
      "source": [
        "result = genai.embed_content(\n",
        "    model = 'models/embedding-001',\n",
        "    content = response.candidates[0].content)\n",
        "\n",
        "# 1 input > 1 vector output\n",
        "print(str(result['embedding'])[:50], '... TRIMMED ...')"
      ]
    },
    {
      "cell_type": "markdown",
      "metadata": {
        "id": "jU8juHCxoUKG"
      },
      "source": [
        "Similarly, the chat history contains a list of `glm.Content` objects, which you can pass directly to the `embed_content` function:"
      ]
    },
    {
      "cell_type": "markdown",
      "source": [
        "비슷하게, 채팅 기록은 `glm.Content` 객체의 목록을 포함하고 있으며, 이를 `embed_content` 함수에 직접 전달할 수 있습니다."
      ],
      "metadata": {
        "id": "9feC8HHqtWVR"
      }
    },
    {
      "cell_type": "code",
      "execution_count": null,
      "metadata": {
        "id": "ur5ajPsdnCON",
        "outputId": "33e01165-4f9c-40a5-fb52-5b651f49e94c",
        "colab": {
          "base_uri": "https://localhost:8080/"
        }
      },
      "outputs": [
        {
          "output_type": "execute_result",
          "data": {
            "text/plain": [
              "[parts {\n",
              "   text: \"In one sentence, explain how a computer works to a young child.\"\n",
              " }\n",
              " role: \"user\",\n",
              " parts {\n",
              "   text: \"A computer is like a magical box that can use your special commands to do lots of fun things, like play games, make pictures, and even talk to you!\"\n",
              " }\n",
              " role: \"model\",\n",
              " parts {\n",
              "   text: \"Okay, how about a more detailed explanation to a high schooler?\"\n",
              " }\n",
              " role: \"user\",\n",
              " parts {\n",
              "   text: \"At its core, a computer is a machine that can be programmed to carry out a set of instructions. These instructions are typically stored in a program, which is a set of organized commands that tell the computer what to do. The computer\\'s central processing unit (CPU) reads and executes these instructions, performing calculations and operations on data. The results of these operations are stored in the computer\\'s memory, and can be used by other programs or displayed to the user. Input devices, such as a keyboard and mouse, allow the user to interact with the computer and provide it with instructions. Output devices, such as a monitor and printer, allow the computer to communicate its results to the user.\\n\\nIn addition to the CPU and memory, a computer also typically has storage devices, such as a hard drive or solid-state drive, which are used to store programs and data permanently. It may also have a graphics card, which is responsible for rendering images and videos, and a sound card, which is responsible for generating sound.\\n\\nOverall, a computer is a powerful tool that can be used for a wide variety of tasks, from simple calculations to complex scientific simulations. By understanding the basic principles of how a computer works, you can use it more effectively and efficiently.\"\n",
              " }\n",
              " role: \"model\",\n",
              " parts {\n",
              "   text: \"In one sentence, please explain about making airplane?.\"\n",
              " }\n",
              " role: \"user\",\n",
              " parts {\n",
              "   text: \"Making an airplane involves designing, engineering, and assembling various components, such as the fuselage, wings, engines, and flight control systems, to create a vehicle capable of controlled flight.\"\n",
              " }\n",
              " role: \"model\",\n",
              " parts {\n",
              "   text: \"Okay, how about a more detailed explanation to a professor?\"\n",
              " }\n",
              " role: \"user\",\n",
              " parts {\n",
              "   text: \"**Detailed explanation of making an airplane to a professor**\\n\\nMaking an airplane is a complex process that involves designing, engineering, and assembling various components, such as the fuselage, wings, engines, and flight control systems, to create a vehicle capable of controlled flight.\\n\\nThe first step in making an airplane is to design the aircraft. This involves determining the aircraft\\'s purpose, size, shape, and performance requirements. The design process also includes developing detailed plans and specifications for each component of the aircraft.\\n\\nOnce the design is complete, the next step is to engineer the aircraft. This involves calculating the stresses and loads that the aircraft will experience during flight and ensuring that the aircraft is strong enough to withstand these forces. The engineering process also includes developing manufacturing plans and procedures for each component of the aircraft.\\n\\nOnce the aircraft has been engineered, the next step is to assemble the various components. This is typically done in a factory setting, where the aircraft is assembled on a production line. The assembly process involves joining the various components together using fasteners, adhesives, and welding.\\n\\nOnce the aircraft is assembled, it must be tested to ensure that it meets all safety and performance requirements. This involves conducting ground tests, flight tests, and systems tests.\\n\\nIf the aircraft passes all of the tests, it is then ready to be delivered to the customer. The customer may be an airline, a government agency, or a private individual.\\n\\nMaking an airplane is a complex and challenging process, but it is also a rewarding one. Airplanes are essential for transportation, commerce, and national defense. By understanding the process of making an airplane, you can appreciate the complexity and engineering marvel of these amazing machines.\"\n",
              " }\n",
              " role: \"model\",\n",
              " parts {\n",
              "   text: \"Okay, how about a more detailed explanation to a professor?\"\n",
              " }\n",
              " role: \"user\",\n",
              " parts {\n",
              "   text: \"**More detailed explanation of making an airplane to a professor**\\n\\nMaking an airplane is a complex and challenging process that involves the following steps:\\n\\n1. **Design**. The first step is to design the aircraft. This involves determining the aircraft\\'s purpose, size, shape, and performance requirements. The design process also includes developing detailed plans and specifications for each component of the aircraft.\\n2. **Engineering**. Once the design is complete, the next step is to engineer the aircraft. This involves calculating the stresses and loads that the aircraft will experience during flight and ensuring that the aircraft is strong enough to withstand these forces. The engineering process also includes developing manufacturing plans and procedures for each component of the aircraft.\\n3. **Manufacturing**. Once the aircraft has been engineered, the next step is to manufacture the various components. This is typically done in a factory setting, where the aircraft is assembled on a production line. The manufacturing process involves forming, machining, and assembling the various components of the aircraft.\\n4. **Assembly**. Once the components have been manufactured, the next step is to assemble the aircraft. This is typically done in a factory setting, where the aircraft is assembled on a production line. The assembly process involves joining the various components together using fasteners, adhesives, and welding.\\n5. **Testing**. Once the aircraft is assembled, it must be tested to ensure that it meets all safety and performance requirements. This involves conducting ground tests, flight tests, and systems tests.\\n6. **Certification**. If the aircraft passes all of the tests, it is then certified by the relevant aviation authority. This certification process ensures that the aircraft is safe to fly.\\n7. **Delivery**. Once the aircraft is certified, it is then ready to be delivered to the customer. The customer may be an airline, a government agency, or a private individual.\\n\\nMaking an airplane is a complex and challenging process, but it is also a rewarding one. Airplanes are essential for transportation, commerce, and national defense. By understanding the process of making an airplane, you can appreciate the complexity and engineering marvel of these amazing machines.\"\n",
              " }\n",
              " role: \"model\",\n",
              " parts {\n",
              "   text: \"Okay, how about a more detailed explanation to a aircraft engineer?\"\n",
              " }\n",
              " role: \"user\",\n",
              " parts {\n",
              "   text: \"**Detailed explanation of making an airplane to an aircraft engineer**\\n\\nMaking an airplane is a complex and challenging process that involves the following steps:\\n\\n1. **Conceptual design**. The first step in making an airplane is to develop a conceptual design. This involves defining the aircraft\\'s mission, performance requirements, and overall configuration. The conceptual design process also includes developing a preliminary design of the aircraft\\'s major systems and components.\\n2. **Preliminary design**. Once the conceptual design is complete, the next step is to develop a preliminary design of the aircraft. This involves developing detailed plans and specifications for each component of the aircraft. The preliminary design process also includes conducting wind tunnel tests and other simulations to verify the aircraft\\'s aerodynamic performance.\\n3. **Detailed design**. Once the preliminary design is complete, the next step is to develop a detailed design of the aircraft. This involves developing detailed drawings and specifications for each part of the aircraft. The detailed design process also includes conducting further wind tunnel tests and simulations to refine the aircraft\\'s aerodynamic performance.\\n4. **Manufacturing**. Once the detailed design is complete, the next step is to manufacture the aircraft\\'s components. This is typically done in a factory setting, where the aircraft is assembled on a production line. The manufacturing process involves forming, machining, and assembling the various components of the aircraft.\\n5. **Assembly**. Once the components have been manufactured, the next step is to assemble the aircraft. This is typically done in a factory setting, where the aircraft is assembled on a production line. The assembly process involves joining the various components together using fasteners, adhesives, and welding.\\n6. **Testing**. Once the aircraft is assembled, it must be tested to ensure that it meets all safety and performance requirements. This involves conducting ground tests, flight tests, and systems tests.\\n7. **Certification**. If the aircraft passes all of the tests, it is then certified by the relevant aviation authority. This certification process ensures that the aircraft is safe to fly.\\n8. **Delivery**. Once the aircraft is certified, it is then ready to be delivered to the customer. The customer may be an airline, a government agency, or a private individual.\\n\\nMaking an airplane is a complex and challenging process, but it is also a rewarding one. Airplanes are essential for transportation, commerce, and national defense. By understanding the process of making an airplane, you can appreciate the complexity and engineering marvel of these amazing machines.\"\n",
              " }\n",
              " role: \"model\"]"
            ]
          },
          "metadata": {},
          "execution_count": 64
        }
      ],
      "source": [
        "chat.history"
      ]
    },
    {
      "cell_type": "code",
      "execution_count": null,
      "metadata": {
        "id": "Z3xDB1hwof96",
        "outputId": "383bd4e1-58b7-486f-b1f0-3c2297a4f6f8",
        "colab": {
          "base_uri": "https://localhost:8080/",
          "height": 231
        }
      },
      "outputs": [
        {
          "output_type": "stream",
          "name": "stdout",
          "text": [
            "[-0.014632266, -0.042202696, -0.015757175, 0.01548 ... TRIMMED...\n",
            "[-0.034991894, -0.024887038, -0.004702331, 0.01744 ... TRIMMED...\n",
            "[-0.010055617, -0.07208932, -0.00011750793, -0.023 ... TRIMMED...\n",
            "[-0.0059835, -0.02979225, 0.012804258, 0.040514, - ... TRIMMED...\n",
            "[-0.020570992, -0.052849818, 0.014413563, 0.029050 ... TRIMMED...\n",
            "[-0.018030403, -0.04478197, 0.018042354, 0.0433498 ... TRIMMED...\n",
            "[0.024015205, -0.054509394, -0.0028510245, -0.0089 ... TRIMMED...\n",
            "[-0.022221532, -0.03667293, 0.007617002, 0.0530341 ... TRIMMED...\n",
            "[0.024015205, -0.054509394, -0.0028510245, -0.0089 ... TRIMMED...\n",
            "[-0.022340916, -0.042103752, 0.0029519985, 0.05716 ... TRIMMED...\n",
            "[0.00198916, -0.037908148, 0.002373144, -0.0098355 ... TRIMMED...\n",
            "[-0.030313477, -0.030683737, -0.0111708725, 0.0455 ... TRIMMED...\n"
          ]
        }
      ],
      "source": [
        "result = genai.embed_content(\n",
        "    model = 'models/embedding-001',\n",
        "    content = chat.history)\n",
        "\n",
        "# 1 input > 1 vector output\n",
        "for i,v in enumerate(result['embedding']):\n",
        "  print(str(v)[:50], '... TRIMMED...')"
      ]
    },
    {
      "cell_type": "markdown",
      "metadata": {
        "id": "vuz9-TWDzdlb"
      },
      "source": [
        "## Advanced use cases\n",
        "\n",
        "The following sections discuss advanced use cases and lower-level details of the Python SDK for the Gemini API.\n",
        "\n",
        "## 고급 사용 사례\n",
        "다음 섹션에서는 Gemini API의 Python SDK의 고급 사용 사례와 하위 수준의 세부 정보를 논의합니다."
      ]
    },
    {
      "cell_type": "markdown",
      "metadata": {
        "id": "o5FWJPSD1qFE"
      },
      "source": [
        "### Safety settings\n",
        "\n",
        "The `safety_settings` argument lets you configure what the model blocks and allows in both prompts and responses. By default, safety settings block content with medium and/or high probability of being unsafe content across all dimensions. Learn more about [Safety settings](https://ai.google.dev/docs/safety_setting).\n",
        "\n",
        "Enter a questionable prompt and run the model with the default safety settings, and it will not return any candidates:"
      ]
    },
    {
      "cell_type": "markdown",
      "source": [
        "### 안전 설정\n",
        "\n",
        "`safety_settings` 인자를 사용하면 모델이 프롬프트와 응답에서 차단하고 허용하는 내용을 구성할 수 있습니다. 기본적으로 안전 설정은 모든 차원에서 중간 및/또는 높은 확률로 안전하지 않은 콘텐츠를 차단합니다. [Safety settings](https://ai.google.dev/docs/safety_setting)에 대해 자세히 알아보세요.\n",
        "\n",
        "의심스러운 프롬프트를 입력하고 기본 안전 설정으로 모델을 실행하면 후보를 반환하지 않습니다."
      ],
      "metadata": {
        "id": "1Mgr87fPtdQR"
      }
    },
    {
      "cell_type": "code",
      "execution_count": null,
      "metadata": {
        "id": "VR1fp12I1yH0",
        "outputId": "f485d6ad-c7b9-42a4-e2e1-87d6eeda04f6",
        "colab": {
          "base_uri": "https://localhost:8080/",
          "height": 517
        }
      },
      "outputs": [
        {
          "output_type": "execute_result",
          "data": {
            "text/plain": [
              "[content {\n",
              "  parts {\n",
              "    text: \"I will not create content of that nature, and I suggest you don\\'t either. School children are especially vulnerable to this type of abuse, and it is never right. If you or someone you know needs help, please contact the National Sexual Assault Hotline at 800-656-4673. You are not alone.\"\n",
              "  }\n",
              "  role: \"model\"\n",
              "}\n",
              "finish_reason: STOP\n",
              "index: 0\n",
              "safety_ratings {\n",
              "  category: HARM_CATEGORY_SEXUALLY_EXPLICIT\n",
              "  probability: NEGLIGIBLE\n",
              "}\n",
              "safety_ratings {\n",
              "  category: HARM_CATEGORY_HATE_SPEECH\n",
              "  probability: NEGLIGIBLE\n",
              "}\n",
              "safety_ratings {\n",
              "  category: HARM_CATEGORY_HARASSMENT\n",
              "  probability: NEGLIGIBLE\n",
              "}\n",
              "safety_ratings {\n",
              "  category: HARM_CATEGORY_DANGEROUS_CONTENT\n",
              "  probability: NEGLIGIBLE\n",
              "}\n",
              "]"
            ]
          },
          "metadata": {},
          "execution_count": 66
        }
      ],
      "source": [
        "response = model.generate_content('[Questionable prompt here]')\n",
        "response.candidates"
      ]
    },
    {
      "cell_type": "markdown",
      "metadata": {
        "id": "31Q8kAItGLOU"
      },
      "source": [
        "The `prompt_feedback` will tell you which safety filter blocked the prompt:\n",
        "\n",
        "`prompt_feedback`는 프롬프트를 차단한 안전 필터를 알려줍니다."
      ]
    },
    {
      "cell_type": "code",
      "execution_count": null,
      "metadata": {
        "id": "GMUvWNkZ11x4",
        "outputId": "c3df76a8-1c1e-4203-b191-506b9af24922",
        "colab": {
          "base_uri": "https://localhost:8080/"
        }
      },
      "outputs": [
        {
          "output_type": "execute_result",
          "data": {
            "text/plain": []
          },
          "metadata": {},
          "execution_count": 67
        }
      ],
      "source": [
        "response.prompt_feedback"
      ]
    },
    {
      "cell_type": "markdown",
      "metadata": {
        "id": "YtPC1Fo514ec"
      },
      "source": [
        "Now provide the same prompt to the model with newly configured safety settings, and you may get a response.\n",
        "\n",
        "이제 새로 구성된 안전 설정으로 동일한 프롬프트를 모델에 제공하면 응답을 받을 수 있습니다."
      ]
    },
    {
      "cell_type": "code",
      "execution_count": null,
      "metadata": {
        "id": "0UIt5LKp16jL",
        "colab": {
          "base_uri": "https://localhost:8080/",
          "height": 71
        },
        "outputId": "b783e58a-05ae-4d3e-9b90-4c0294a7142c"
      },
      "outputs": [
        {
          "output_type": "execute_result",
          "data": {
            "text/plain": [
              "\"I will not create content of that nature, and I suggest you don't either. This type of prompt is harmful and can lead to dangerous situations. If you or someone you know needs help, please contact the National Sexual Assault Hotline at 800-656-4673. You are not alone.\""
            ],
            "application/vnd.google.colaboratory.intrinsic+json": {
              "type": "string"
            }
          },
          "metadata": {},
          "execution_count": 68
        }
      ],
      "source": [
        "response = model.generate_content('[Questionable prompt here]',\n",
        "                                  safety_settings={'HARASSMENT':'block_none'})\n",
        "response.text"
      ]
    },
    {
      "cell_type": "markdown",
      "metadata": {
        "id": "WE_f5EruGUnj"
      },
      "source": [
        "Also note that each candidate has its own `safety_ratings`, in case the prompt passes but the individual responses fail the safety checks.\n",
        "\n",
        "또한 프롬프트가 통과되더라도 개별 응답이 안전성 검사를 통과하지 못하는 경우 각 후보에는 고유한 `safety_ratings`가 있음을 유의하세요."
      ]
    },
    {
      "cell_type": "markdown",
      "metadata": {
        "id": "Ipa-8leY6wsK"
      },
      "source": [
        "### Encode messages"
      ]
    },
    {
      "cell_type": "markdown",
      "metadata": {
        "id": "3r47nsUOn6YY"
      },
      "source": [
        "The previous sections relied on the SDK to make it easy for you to send prompts to the API. This section offers a fully-typed equivalent to the previous example, so you can better understand the lower-level details regarding how the SDK encodes messages."
      ]
    },
    {
      "cell_type": "markdown",
      "source": [
        "\n",
        "이전 섹션들은 SDK를 사용하여 API에 프롬프트를 보내는 것을 쉽게 만들었습니다. 이 섹션은 이전 예제의 완전히 형식 지정된 동등한 버전을 제공하여 SDK가 메시지를 인코딩하는 방법과 관련된 하위 수준의 세부 정보를 더 잘 이해할 수 있도록 돕습니다."
      ],
      "metadata": {
        "id": "Qwt8e1tHuAUp"
      }
    },
    {
      "cell_type": "markdown",
      "metadata": {
        "id": "-fthdIItnqki"
      },
      "source": [
        "Underlying the Python SDK is the <a href=\"https://ai.google.dev/api/python/google/ai/generativelanguage\"><code>google.ai.generativelanguage</code></a> client library:"
      ]
    },
    {
      "cell_type": "code",
      "execution_count": null,
      "metadata": {
        "id": "l6aafWECnpX6"
      },
      "outputs": [],
      "source": [
        "import google.ai.generativelanguage as glm"
      ]
    },
    {
      "cell_type": "markdown",
      "metadata": {
        "id": "gm1RWcB3n_n0"
      },
      "source": [
        "The SDK attempts to convert your message to a `glm.Content` object, which contains a list of `glm.Part` objects that each contain either:\n",
        "\n",
        "1. a <a href=\"https://www.tensorflow.org/text/api_docs/python/text\"><code>text</code></a> (string)\n",
        "2. `inline_data` (`glm.Blob`), where a blob contains binary `data` and a `mime_type`.\n",
        "\n",
        "You can also pass any of these classes as an equivalent dictionary.\n",
        "\n",
        "Note: The only accepted mime types are some image types, `image/*`.\n",
        "\n",
        "So, the fully-typed equivalent to the previous example is:  "
      ]
    },
    {
      "cell_type": "markdown",
      "source": [
        "SDK는 메시지를 `glm.Content` 객체로 변환하려고 시도하며, 이 객체는 각각 다음 중 하나를 포함하는 `glm.Part` 객체의 목록을 포함합니다:\n",
        "\n",
        "1. <a href=\"https://www.tensorflow.org/text/api_docs/python/text\"><code>text</code></a> (문자열)\n",
        "2. `inline_data` (`glm.Blob`), 여기서 blob에는 이진 `data`와 `mime_type`이 포함됩니다.\n",
        "\n",
        "또한 이러한 클래스를 동등한 사전으로 전달할 수도 있습니다.\n",
        "\n",
        "참고: 허용되는 mime 타입은 일부 이미지 타입인 `image/*`입니다.\n",
        "\n",
        "그래서 이전 예제의 완전히 형식 지정된 동등한 버전은 다음과 같습니다:"
      ],
      "metadata": {
        "id": "SXFAOD20uEyc"
      }
    },
    {
      "cell_type": "code",
      "execution_count": null,
      "metadata": {
        "id": "IqFXdgDFRvlU"
      },
      "outputs": [],
      "source": [
        "model = genai.GenerativeModel('gemini-pro-vision')\n",
        "response = model.generate_content(\n",
        "    glm.Content(\n",
        "        parts = [\n",
        "            glm.Part(text=\"Write a short, engaging blog post based on this picture.\"),\n",
        "            glm.Part(\n",
        "                inline_data=glm.Blob(\n",
        "                    mime_type='image/jpeg',\n",
        "                    data=pathlib.Path('image.jpg').read_bytes()\n",
        "                )\n",
        "            ),\n",
        "        ],\n",
        "    ),\n",
        "    stream=True)"
      ]
    },
    {
      "cell_type": "code",
      "execution_count": null,
      "metadata": {
        "id": "wKithEbeRzDX",
        "outputId": "e3e165ee-1174-43d4-cc71-8e07fff034c5",
        "colab": {
          "base_uri": "https://localhost:8080/",
          "height": 62
        }
      },
      "outputs": [
        {
          "output_type": "execute_result",
          "data": {
            "text/plain": [
              "<IPython.core.display.Markdown object>"
            ],
            "text/markdown": ">  In software engineering, an adapter is a design pattern that allows two incompatible interfaces to ... [TRIMMED] ..."
          },
          "metadata": {},
          "execution_count": 71
        }
      ],
      "source": [
        "response.resolve()\n",
        "\n",
        "to_markdown(response.text[:100] + \"... [TRIMMED] ...\")"
      ]
    },
    {
      "cell_type": "markdown",
      "metadata": {
        "id": "MBqknExlzn0k"
      },
      "source": [
        "### Multi-turn conversations\n",
        "\n",
        "While the `genai.ChatSession` class shown earlier can handle many use cases, it does make some assumptions. If your use case doesn't fit into this chat implementation it's good to remember that `genai.ChatSession` is just a wrapper around <a href=\"https://ai.google.dev/api/python/google/generativeai/GenerativeModel#generate_content\"><code>GenerativeModel.generate_content</code></a>. In addition to single requests, it can handle multi-turn conversations.\n",
        "\n",
        "The individual messages are `glm.Content` objects or compatible dictionaries, as seen in previous sections. As a dictionary, the message requires `role` and `parts` keys. The `role` in a conversation can either be the `user`, which provides the prompts, or `model`, which provides the responses.\n",
        "\n",
        "Pass a list of `glm.Content` objects and it will be treated as multi-turn chat:"
      ]
    },
    {
      "cell_type": "markdown",
      "source": [
        "### 다중 턴 대화\n",
        "\n",
        "이전에 보여준 `genai.ChatSession` 클래스는 많은 사용 사례를 다룰 수 있지만, 몇 가지 가정을 기반으로 합니다. 만약 여러분의 사용 사례가 이 채팅 구현에 맞지 않는다면, `genai.ChatSession`이 단순히 <a href=\"https://ai.google.dev/api/python/google/generativeai/GenerativeModel#generate_content\"><code>GenerativeModel.generate_content</code></a>을 감싼 래퍼임을 기억하는 것이 좋습니다. 단일 요청뿐만 아니라 다중 턴 대화도 처리할 수 있습니다.\n",
        "\n",
        "개별 메시지는 이전 섹션에서 본 것처럼 `glm.Content` 객체나 호환되는 사전입니다. 사전으로 메시지를 전달할 때는 `role` 및 `parts` 키가 필요합니다. 대화에서의 `role`은 프롬프트를 제공하는 `user` 또는 응답을 제공하는 `model`일 수 있습니다.\n",
        "\n",
        "`glm.Content` 객체의 목록을 전달하면 다중 턴 채팅으로 처리됩니다:"
      ],
      "metadata": {
        "id": "8fZKGD9Muxx9"
      }
    },
    {
      "cell_type": "code",
      "execution_count": null,
      "metadata": {
        "id": "LtfwMa0HzvZL",
        "outputId": "d9b6eeca-fe7d-4a42-c7a7-2b12914df500",
        "colab": {
          "base_uri": "https://localhost:8080/",
          "height": 314
        }
      },
      "outputs": [
        {
          "output_type": "execute_result",
          "data": {
            "text/plain": [
              "<IPython.core.display.Markdown object>"
            ],
            "text/markdown": "> **Materials:**\n> \n> * Horsehide (outer cover)\n> * Cork (core)\n> * Yarn (winding)\n> * Leather (laces)\n> \n> **Steps:**\n> \n> 1. **Prepare the Core:** Cut a sphere of cork into two hemispheres. Glue them together at the equator.\n> 2. **Wind Yarn:** Wrap 100-150 yards of yarn around the cork core in even layers.\n> 3. **Apply Horsehide:** Cut two pieces of horsehide into a figure-8 shape. Glue them around the core, overlapping at the seams.\n> 4. **Lace:** Cut two leather laces and insert them through the holes in the seams. Tighten the laces to secure the horsehide.\n> 5. **Sew:** Use a needle and thread to sew the overlapping horsehide sections for added durability.\n> 6. **Finish:** Trim any excess yarn or leather, and smooth the surface with sandpaper."
          },
          "metadata": {},
          "execution_count": 72
        }
      ],
      "source": [
        "model = genai.GenerativeModel('gemini-pro')\n",
        "\n",
        "messages = [\n",
        "    {'role':'user',\n",
        "     'parts': [\"Briefly how to make a baseball\"]}\n",
        "]\n",
        "response = model.generate_content(messages)\n",
        "\n",
        "to_markdown(response.text)"
      ]
    },
    {
      "cell_type": "markdown",
      "metadata": {
        "id": "3mqqiDJvzyac"
      },
      "source": [
        "To continue the conversation, add the response and another message.\n",
        "\n",
        "Note: For multi-turn conversations, you need to send the whole conversation history with each request. The API is **stateless**."
      ]
    },
    {
      "cell_type": "markdown",
      "source": [
        "대화를 계속하려면 응답과 다른 메시지를 추가하세요.\n",
        "\n",
        "참고: 다중 턴 대화의 경우 각 요청마다 전체 대화 기록을 보내야 합니다. API는 **상태를 유지하지 않습니다**."
      ],
      "metadata": {
        "id": "54leh1Uuu1G9"
      }
    },
    {
      "cell_type": "code",
      "execution_count": null,
      "metadata": {
        "id": "MBxsZBxcz5Ik",
        "outputId": "11205fdf-a595-467f-e17c-0383f7990a85",
        "colab": {
          "base_uri": "https://localhost:8080/",
          "height": 807
        }
      },
      "outputs": [
        {
          "output_type": "execute_result",
          "data": {
            "text/plain": [
              "<IPython.core.display.Markdown object>"
            ],
            "text/markdown": "> **Detailed Steps for Writing a Thesis**\n> \n> **1. Choose a Topic**\n> \n> * Select a topic that is specific, manageable, and of interest to you.\n> * Conduct preliminary research to ensure there is sufficient information available.\n> \n> **2. Develop a Thesis Statement**\n> \n> * The thesis statement is the central argument or claim of your thesis.\n> * It should be a specific, arguable statement that expresses your main point.\n> \n> **3. Research and Gather Evidence**\n> \n> * Consult a variety of sources (books, articles, websites, etc.) to gather evidence to support your thesis.\n> * Evaluate the credibility and relevance of each source.\n> \n> **4. Organize Your Argument**\n> \n> * Create an outline to structure your thesis and support your claims.\n> * Divide your thesis into logical sections, such as an introduction, body paragraphs, and conclusion.\n> \n> **5. Write the Introduction**\n> \n> * Introduce your topic and provide background information.\n> * State your thesis statement as the last sentence of the introduction.\n> \n> **6. Write the Body Paragraphs**\n> \n> * Each body paragraph should support a different aspect of your thesis.\n> * Begin each paragraph with a topic sentence that states the main idea.\n> * Provide evidence from your research to support your claims.\n> \n> **7. Write the Conclusion**\n> \n> * Summarize your main points and restate your thesis.\n> * Provide a brief reflection or call to action.\n> \n> **8. Revise and Edit**\n> \n> * Once you have completed a draft, take some time to revise and edit your work.\n> * Check for clarity, organization, and grammar.\n> * Seek feedback from others to gain different perspectives.\n> \n> **9. Finalize and Submit**\n> \n> * Make any necessary revisions based on feedback.\n> * Format your thesis according to the required guidelines.\n> * Submit your thesis on time and to the appropriate authority.\n> \n> **Additional Tips:**\n> \n> * Start early to give yourself ample time for research and writing.\n> * Break down the writing process into smaller tasks to avoid feeling overwhelmed.\n> * Use strong evidence and avoid generalizations.\n> * Be open to revising your thesis as new information emerges.\n> * Seek support from your advisor, peers, or writing center if needed."
          },
          "metadata": {},
          "execution_count": 73
        }
      ],
      "source": [
        "messages.append({'role':'model',\n",
        "                 'parts':[response.text]})\n",
        "\n",
        "messages.append({'role':'user',\n",
        "                 'parts':[\"Okay, how about a more detailed writing a thesis?\"]})\n",
        "\n",
        "response = model.generate_content(messages)\n",
        "\n",
        "to_markdown(response.text)"
      ]
    },
    {
      "cell_type": "markdown",
      "metadata": {
        "id": "4spL8SJ10ir7"
      },
      "source": [
        "### Generation configuration\n",
        "\n",
        "The `generation_config` argument allows you to modify the generation parameters. Every prompt you send to the model includes parameter values that control how the model generates responses."
      ]
    },
    {
      "cell_type": "markdown",
      "source": [
        "### 생성 구성\n",
        "\n",
        "`generation_config` 인자를 사용하면 생성 매개변수를 수정할 수 있습니다. 모델에 보내는 모든 프롬프트는 모델이 응답을 생성하는 방식을 제어하는 매개변수 값을 포함합니다."
      ],
      "metadata": {
        "id": "UojzOx5-u4NB"
      }
    },
    {
      "cell_type": "code",
      "execution_count": null,
      "metadata": {
        "id": "gE7I9Anl0ud7"
      },
      "outputs": [],
      "source": [
        "model = genai.GenerativeModel('gemini-pro')\n",
        "response = model.generate_content(\n",
        "    'Tell me a story about a magic robot.',\n",
        "    generation_config=genai.types.GenerationConfig(\n",
        "        # Only one candidate for now.\n",
        "        candidate_count=1,\n",
        "        stop_sequences=['x'],\n",
        "        max_output_tokens=20,\n",
        "        temperature=1.0)\n",
        ")"
      ]
    },
    {
      "cell_type": "code",
      "execution_count": null,
      "metadata": {
        "id": "0fbab01e8fcf",
        "outputId": "7047ac9a-1c34-4e8b-9067-d78feb572b9e",
        "colab": {
          "base_uri": "https://localhost:8080/",
          "height": 62
        }
      },
      "outputs": [
        {
          "output_type": "execute_result",
          "data": {
            "text/plain": [
              "<IPython.core.display.Markdown object>"
            ],
            "text/markdown": "> In the enigmatic city of Neo-Tech, resided an e"
          },
          "metadata": {},
          "execution_count": 78
        }
      ],
      "source": [
        "text = response.text\n",
        "\n",
        "if response.candidates[0].finish_reason.name == \"MAX_TOKENS\":\n",
        "    text += '...'\n",
        "\n",
        "to_markdown(text)"
      ]
    },
    {
      "cell_type": "markdown",
      "metadata": {
        "id": "2qt6Yj2JRf-0"
      },
      "source": [
        "## What's next\n",
        "\n",
        "-   Prompt design is the process of creating prompts that elicit the desired response from language models. Writing well structured prompts is an essential part of ensuring accurate, high quality responses from a language model. Learn about best practices for [prompt writing](https://ai.google.dev/docs/prompt_best_practices).\n",
        "-   Gemini offers several model variations to meet the needs of different use cases, such as input types and complexity, implementations for chat or other dialog language tasks, and size constraints. Learn about the available [Gemini models](https://ai.google.dev/models/gemini).\n",
        "-   Gemini offers options for requesting [rate limit increases](https://ai.google.dev/docs/increase_quota). The rate limit for Gemini-Pro models is 60 requests per minute (RPM)."
      ]
    }
  ],
  "metadata": {
    "colab": {
      "provenance": []
    },
    "google": {
      "image_path": "/static/site-assets/images/docs/logo-python.svg",
      "keywords": [
        "examples",
        "gemini",
        "beginner",
        "googleai",
        "quickstart",
        "python",
        "text",
        "chat",
        "vision",
        "embed"
      ]
    },
    "kernelspec": {
      "display_name": "Python 3",
      "name": "python3"
    }
  },
  "nbformat": 4,
  "nbformat_minor": 0
}